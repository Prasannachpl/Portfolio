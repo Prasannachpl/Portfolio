{
 "cells": [
  {
   "cell_type": "markdown",
   "metadata": {},
   "source": [
    "## Youtube Recommendations using Deep Neural Networks"
   ]
  },
  {
   "cell_type": "markdown",
   "metadata": {},
   "source": [
    "We propose two approaches for movie rating recommendation, leveraging collaborative filtering and deep learning techniques inspired by the methodology described in \"Deep Neural Networks for YouTube Recommendations\". Our models are trained and validated using the MovieLens 100k dataset (ml-100k). We refer to the benchmarks provided by LibRec for public comparisons.\n",
    "\n",
    "[Collaborative filtering](https://en.wikipedia.org/wiki/Collaborative_filtering) and [Deep Neural Networks for YouTube Recommendations](https://static.googleusercontent.com/media/research.google.com/en//pubs/archive/45530.pdf) serve as the basis for our methodologies. Additionally, the [MovieLens 100k dataset](https://grouplens.org/datasets/movielens/100k/) and [LibRec benchmarks](https://www.librec.net/release/v1.3/example.html) offer invaluable resources for training, validation, and benchmarking."
   ]
  },
  {
   "cell_type": "markdown",
   "metadata": {},
   "source": [
    "## Imports"
   ]
  },
  {
   "cell_type": "code",
   "execution_count": 1,
   "metadata": {},
   "outputs": [],
   "source": [
    "%matplotlib inline\n",
    "\n",
    "import pandas as pd\n",
    "import numpy as np\n",
    "import matplotlib.pyplot as plt\n",
    "import random\n",
    "from tqdm import tqdm_notebook\n",
    "from copy import deepcopy\n",
    "\n",
    "import torch\n",
    "import torch.nn as nn\n",
    "import torch.nn.functional as F\n",
    "from torch.utils.data import DataLoader, Dataset\n",
    "device = torch.device(\"cuda:0\" if torch.cuda.is_available() else \"cpu\")\n",
    "\n",
    "data_path = '/Users/kishanterdal/Downloads/Youtube_project//ml-100k/'"
   ]
  },
  {
   "cell_type": "markdown",
   "metadata": {},
   "source": [
    "## Data Processing"
   ]
  },
  {
   "cell_type": "markdown",
   "metadata": {},
   "source": [
    "We have five sets of datasets for both training and validation using the ml-100k dataset. To adhere to Python conventions, we normalize the user and item indices to start from 0. The training set comprises 80,000 tuples of user-item-rating, while the validation set contains 20,000 tuples."
   ]
  },
  {
   "cell_type": "code",
   "execution_count": 2,
   "metadata": {},
   "outputs": [],
   "source": [
    "val_idx = 1  # Index indicating the dataset pair to be used for validation\n",
    "nb_users = 1000  # Total number of users in the dataset\n",
    "nb_items = 1700  # Total number of items in the dataset"
   ]
  },
  {
   "cell_type": "markdown",
   "metadata": {},
   "source": [
    "We load the training and validation datasets from the ml-100k dataset using the specified val_idx. The training dataset (train_df) contains user-item-rating tuples and is structured with columns representing user ID, item ID, rating, and timestamp. To align with Python's zero-based indexing convention, we decrement both user and item IDs by 1. Similarly, the validation dataset (valid_df) is loaded and structured similarly to the training set. After adjusting the indices, we verify the shapes of both datasets to ensure correct loading and preprocessing."
   ]
  },
  {
   "cell_type": "code",
   "execution_count": 3,
   "metadata": {},
   "outputs": [
    {
     "data": {
      "text/plain": [
       "((80000, 4), (20000, 4))"
      ]
     },
     "execution_count": 3,
     "metadata": {},
     "output_type": "execute_result"
    }
   ],
   "source": [
    "train_df = pd.read_csv(f'{data_path}u{val_idx}.base',sep='\\t',header=None)\n",
    "train_df.columns = ['user_id','item_id','rating','ts']\n",
    "train_df['user_id'] = train_df['user_id'] -1 #start index at 0\n",
    "train_df['item_id'] = train_df['item_id'] -1\n",
    "valid_df = pd.read_csv(f'{data_path}u{val_idx}.test',sep='\\t',header=None)\n",
    "valid_df.columns = ['user_id','item_id','rating','ts']\n",
    "valid_df['user_id'] = valid_df['user_id'] -1 #start index at 0\n",
    "valid_df['item_id'] = valid_df['item_id'] -1\n",
    "train_df.shape, valid_df.shape"
   ]
  },
  {
   "cell_type": "markdown",
   "metadata": {},
   "source": [
    "We found that all users are in the training set so we should have no out-of-sample problem with the user embeddings."
   ]
  },
  {
   "cell_type": "markdown",
   "metadata": {},
   "source": [
    "We determine the number of unique users in both the training and test sets. In the training set, there are 943 unique users, while in the test set, there are 459 unique users. Additionally, we iterate through the unique users in the test set and count the number of users that also appear in the training set. The variable i stores the count of users common to both sets."
   ]
  },
  {
   "cell_type": "code",
   "execution_count": 4,
   "metadata": {},
   "outputs": [
    {
     "data": {
      "text/plain": [
       "(943, 459)"
      ]
     },
     "execution_count": 4,
     "metadata": {},
     "output_type": "execute_result"
    }
   ],
   "source": [
    "#check number of unique users in both training and test set\n",
    "train_users = train_df.user_id.unique()\n",
    "valid_users = valid_df.user_id.unique()\n",
    "len(train_users),len(valid_users)"
   ]
  },
  {
   "cell_type": "code",
   "execution_count": 5,
   "metadata": {},
   "outputs": [
    {
     "data": {
      "text/plain": [
       "459"
      ]
     },
     "execution_count": 5,
     "metadata": {},
     "output_type": "execute_result"
    }
   ],
   "source": [
    "i = 0\n",
    "for u in valid_users:\n",
    "    if u in train_users: i+=1\n",
    "i"
   ]
  },
  {
   "cell_type": "markdown",
   "metadata": {},
   "source": [
    "However, we found that out of 1,410 items in the validation set only 1,378 items exist in the training set. This will affect when we predict ratings of those unseen items in the validation set."
   ]
  },
  {
   "cell_type": "code",
   "execution_count": 6,
   "metadata": {},
   "outputs": [
    {
     "data": {
      "text/plain": [
       "(1650, 1410)"
      ]
     },
     "execution_count": 6,
     "metadata": {},
     "output_type": "execute_result"
    }
   ],
   "source": [
    "train_items = train_df.item_id.unique()\n",
    "valid_items = valid_df.item_id.unique()\n",
    "len(train_items),len(valid_items)"
   ]
  },
  {
   "cell_type": "code",
   "execution_count": 7,
   "metadata": {},
   "outputs": [
    {
     "data": {
      "text/plain": [
       "1378"
      ]
     },
     "execution_count": 7,
     "metadata": {},
     "output_type": "execute_result"
    }
   ],
   "source": [
    "i = 0\n",
    "for u in valid_items:\n",
    "    if u in train_items: i+=1\n",
    "i"
   ]
  },
  {
   "cell_type": "markdown",
   "metadata": {},
   "source": [
    "## Dataset"
   ]
  },
  {
   "cell_type": "markdown",
   "metadata": {},
   "source": [
    "We create PyTorch dataset objects to generate tuples of `(user, item, rating)` tensors based on the DataFrame we previously loaded. These datasets allow us to load data in batches by converting them into PyTorch DataLoader objects. In this configuration, we define the batch size as 2000."
   ]
  },
  {
   "cell_type": "code",
   "execution_count": 8,
   "metadata": {},
   "outputs": [],
   "source": [
    "class CollabRatingDataset(Dataset):\n",
    "    def __init__(self, df, user_col=0, item_col=1, rating_col=2):\n",
    "        self.df = df\n",
    "        self.user_tensor = torch.tensor(self.df.iloc[:,user_col], dtype=torch.long, device = device)\n",
    "        self.item_tensor = torch.tensor(self.df.iloc[:,item_col], dtype=torch.long, device = device)\n",
    "        self.target_tensor = torch.tensor(self.df.iloc[:,rating_col], dtype=torch.float32, device = device)\n",
    "        \n",
    "    def __getitem__(self, index):\n",
    "        return(self.user_tensor[index], self.item_tensor[index], self.target_tensor[index])\n",
    "\n",
    "    def __len__(self):\n",
    "        return(self.user_tensor.shape[0])"
   ]
  },
  {
   "cell_type": "code",
   "execution_count": 9,
   "metadata": {},
   "outputs": [],
   "source": [
    "bs = 2000\n",
    "train_ds = CollabRatingDataset(train_df)\n",
    "train_dl = DataLoader(train_ds, batch_size=bs, shuffle=True, num_workers=0)\n",
    "valid_ds = CollabRatingDataset(valid_df)\n",
    "valid_dl = DataLoader(valid_ds, batch_size=bs, shuffle=True, num_workers=0)"
   ]
  },
  {
   "cell_type": "code",
   "execution_count": 10,
   "metadata": {},
   "outputs": [
    {
     "data": {
      "text/plain": [
       "(80000, 20000, 40, 10)"
      ]
     },
     "execution_count": 10,
     "metadata": {},
     "output_type": "execute_result"
    }
   ],
   "source": [
    "len(train_ds),len(valid_ds),len(train_dl),len(valid_dl)"
   ]
  },
  {
   "cell_type": "code",
   "execution_count": 11,
   "metadata": {},
   "outputs": [
    {
     "data": {
      "text/plain": [
       "(tensor([0, 0, 0]), tensor([0, 1, 2]), tensor([5., 3., 4.]))"
      ]
     },
     "execution_count": 11,
     "metadata": {},
     "output_type": "execute_result"
    }
   ],
   "source": [
    "train_ds[:3]"
   ]
  },
  {
   "cell_type": "code",
   "execution_count": 12,
   "metadata": {},
   "outputs": [
    {
     "data": {
      "text/plain": [
       "[tensor([888, 206, 616,  ..., 144, 676, 475]),\n",
       " tensor([136, 474, 572,  ..., 342, 470, 267]),\n",
       " tensor([4., 2., 4.,  ..., 5., 4., 4.])]"
      ]
     },
     "execution_count": 12,
     "metadata": {},
     "output_type": "execute_result"
    }
   ],
   "source": [
    "next(iter(train_dl))"
   ]
  },
  {
   "cell_type": "markdown",
   "metadata": {},
   "source": [
    "## Collaborative Filtering"
   ]
  },
  {
   "cell_type": "markdown",
   "metadata": {},
   "source": [
    "Collaborative filtering is one of the fundamental yet robust recommendation algorithms. Its effectiveness hinges on the notion that users who exhibit similar behaviors, such as purchasing or rating items, are likely to share preferences for other items. This bidirectional relationship between users and items forms the cornerstone of collaborative filtering's predictive power."
   ]
  },
  {
   "cell_type": "markdown",
   "metadata": {},
   "source": [
    "### Architecture"
   ]
  },
  {
   "cell_type": "markdown",
   "metadata": {},
   "source": [
    "The simplest form of collaborative filtering consists of the following elements:\n",
    "\n",
    "1. **Item Embedding Layer** to convert item index to vectors\n",
    "2. **User Embedding Layer** to convert user index to vectors\n",
    "3. **Item Bias** to be added to the dot product\n",
    "4. **User Bias** to be added to the dot product\n",
    "\n",
    "We feed each pair of user and item indice into the layers above the perform the following operations to get the predicted rating:\n",
    "\n",
    "$$rating_{predicted}=\\sum{(E_{item} * E_{user})} + B_{user} + B_{item}$$\n",
    "\n",
    "where $E$ stands for embedding activations and $B$ for biases."
   ]
  },
  {
   "cell_type": "code",
   "execution_count": 13,
   "metadata": {},
   "outputs": [],
   "source": [
    "class CollabNet(nn.Module):\n",
    "    def __init__(self, config):\n",
    "        super(CollabNet, self).__init__()\n",
    "        #hyperparameters\n",
    "        self.config = config\n",
    "        self.nb_users = config['nb_users']\n",
    "        self.nb_items = config['nb_items']\n",
    "        self.emb_sz = config['emb_sz']\n",
    "        self.y_range = config['y_range']\n",
    "\n",
    "        #embeddings\n",
    "        self.emb_user = nn.Embedding(num_embeddings=self.nb_users, embedding_dim=self.emb_sz)\n",
    "        self.user_bias = nn.Embedding(num_embeddings=self.nb_users, embedding_dim=1)\n",
    "        self.emb_item = nn.Embedding(num_embeddings=self.nb_items, embedding_dim=self.emb_sz)\n",
    "        self.item_bias = nn.Embedding(num_embeddings=self.nb_items, embedding_dim=1)\n",
    "        \n",
    "\n",
    "    def forward(self, user_idx, item_idx):\n",
    "        user_emb = self.emb_user(user_idx)\n",
    "        item_emb = self.emb_item(item_idx)\n",
    "        dot = (user_emb * item_emb).sum(1)\n",
    "        x = dot + self.user_bias(user_idx).squeeze() + self.item_bias(item_idx).squeeze()\n",
    "        x = torch.sigmoid(x)\n",
    "        x = x * (self.y_range[1] - self.y_range[0]) + self.y_range[0]\n",
    "        return(x)"
   ]
  },
  {
   "cell_type": "code",
   "execution_count": 14,
   "metadata": {},
   "outputs": [
    {
     "data": {
      "text/plain": [
       "CollabNet(\n",
       "  (emb_user): Embedding(943, 100)\n",
       "  (user_bias): Embedding(943, 1)\n",
       "  (emb_item): Embedding(1682, 100)\n",
       "  (item_bias): Embedding(1682, 1)\n",
       ")"
      ]
     },
     "execution_count": 14,
     "metadata": {},
     "output_type": "execute_result"
    }
   ],
   "source": [
    "config = {\n",
    "    'nb_users':943, #how many unique users\n",
    "    'nb_items':1682, #how many unique items\n",
    "    'emb_sz':100, #size of embedding vector\n",
    "    'y_range': [0.8,5.2]} #range of output\n",
    "model = CollabNet(config)\n",
    "model"
   ]
  },
  {
   "cell_type": "markdown",
   "metadata": {},
   "source": [
    "### Training"
   ]
  },
  {
   "cell_type": "markdown",
   "metadata": {},
   "source": [
    "In this setup, we define the hyperparameters for training a collaborative filtering model. With a batch size of 2000, a learning rate of 5e-2, and weight decay set to 1e-1, we aim to train the model for 100 epochs. To prevent overfitting and improve convergence, we reduce the learning rate if the loss stagnates for more than one epoch and halt training if the validation loss fails to improve for two consecutive epochs. \n",
    "\n",
    "The model architecture, implemented as the `CollabNet` class, utilizes embeddings of size 100 for both users and items. The output rating range is specified as [0.8, 5.2]. Training and validation datasets are loaded using PyTorch DataLoader objects, and the model is optimized using the Adam optimizer with a Mean Squared Error loss function. Additionally, a learning rate scheduler is employed to adjust the learning rate dynamically based on validation loss. This comprehensive setup aims to effectively train a collaborative filtering model for recommendation tasks."
   ]
  },
  {
   "cell_type": "code",
   "execution_count": 15,
   "metadata": {},
   "outputs": [],
   "source": [
    "#hyperparameters\n",
    "bs = 2000 #batch size\n",
    "lr = 5e-2 #learning rate\n",
    "wd = 1e-1 #weight decay parameter\n",
    "nb_epoch = 100 #how many epochs to train\n",
    "reduce_lr = 1 #reduce learning rate if loss stagnates more than x epochs\n",
    "early_stop = 2 #stop if validation loss doesnt improve for x epochs\n",
    "\n",
    "config = {\n",
    "    'nb_users':943, #how many unique users\n",
    "    'nb_items':1682, #how many unique items\n",
    "    'emb_sz':100, #size of embedding vector\n",
    "    'y_range': [0.8,5.2]} #range of output\n",
    "\n",
    "#recording\n",
    "lrs = []\n",
    "train_losses=[]\n",
    "valid_losses = []\n",
    "best_loss = np.inf\n",
    "best_weights = None\n",
    "\n",
    "#datasets/loaders\n",
    "train_ds = CollabRatingDataset(train_df)\n",
    "train_dl = DataLoader(train_ds, batch_size=bs, shuffle=True, num_workers=0)\n",
    "valid_ds = CollabRatingDataset(valid_df)\n",
    "valid_dl = DataLoader(valid_ds, batch_size=bs, shuffle=True, num_workers=0)\n",
    "\n",
    "#model\n",
    "model = CollabNet(config)\n",
    "crit = nn.MSELoss(reduction='sum')\n",
    "optim = torch.optim.Adam(model.parameters(), lr=lr, betas=(0.9,0.999), weight_decay=wd)\n",
    "scheduler = torch.optim.lr_scheduler.ReduceLROnPlateau(optim, mode='min',factor=0.5, threshold=1e-2,\n",
    "                                                       patience=reduce_lr, min_lr=lr/10)"
   ]
  },
  {
   "cell_type": "markdown",
   "metadata": {},
   "source": [
    "In this training loop, we iterate over the specified number of epochs, conducting both training and validation phases. During training, predictions are made using the model for each batch of user-item-rating tuples in the training data loader. The Mean Squared Error loss is calculated between the predicted ratings and the ground truth ratings, and backpropagation updates the model parameters. We record the learning rate and training loss.\n",
    "\n",
    "The model switches to evaluation mode for validation, where predictions are made for validation data, and the validation loss is computed. If the validation loss improves, the model weights are updated and recorded as the best model. Early stopping is implemented if the validation loss fails to improve for a specified number of epochs. Finally, the learning rate scheduler is adjusted based on the validation loss. This training process aims to optimize the collaborative filtering model for accurate rating predictions."
   ]
  },
  {
   "cell_type": "code",
   "execution_count": 16,
   "metadata": {},
   "outputs": [
    {
     "name": "stderr",
     "output_type": "stream",
     "text": [
      "/var/folders/2d/m0qd4v854cx_54f5rs6b_6x40000gn/T/ipykernel_20293/1640937583.py:2: TqdmDeprecationWarning: This function will be removed in tqdm==5.0.0\n",
      "Please use `tqdm.notebook.tqdm` instead of `tqdm.tqdm_notebook`\n",
      "  for e in tqdm_notebook(range(nb_epoch)):\n"
     ]
    },
    {
     "data": {
      "application/vnd.jupyter.widget-view+json": {
       "model_id": "538798b61fd748d995167ff8871dc54b",
       "version_major": 2,
       "version_minor": 0
      },
      "text/plain": [
       "  0%|          | 0/100 [00:00<?, ?it/s]"
      ]
     },
     "metadata": {},
     "output_type": "display_data"
    },
    {
     "name": "stdout",
     "output_type": "stream",
     "text": [
      "Epoch 0 Train loss: 5.183896020507812; Valid loss: 4.863396337890625; Learning rate: 0.05\n",
      "Epoch 1 Train loss: 3.840536553955078; Valid loss: 4.001342919921875; Learning rate: 0.05\n",
      "Epoch 2 Train loss: 2.850820520019531; Valid loss: 3.154245947265625; Learning rate: 0.05\n",
      "Epoch 3 Train loss: 2.2239550903320313; Valid loss: 2.62006025390625; Learning rate: 0.05\n",
      "Epoch 4 Train loss: 1.735252978515625; Valid loss: 2.180334521484375; Learning rate: 0.05\n",
      "Epoch 5 Train loss: 1.2168792816162108; Valid loss: 1.6991259887695314; Learning rate: 0.05\n",
      "Epoch 6 Train loss: 0.7110821304321289; Valid loss: 1.2924846069335938; Learning rate: 0.05\n",
      "Epoch 7 Train loss: 0.3904019599914551; Valid loss: 1.119444091796875; Learning rate: 0.05\n",
      "Epoch 8 Train loss: 0.24656678733825685; Valid loss: 1.0601716674804686; Learning rate: 0.05\n",
      "Epoch 9 Train loss: 0.18263178977966307; Valid loss: 1.0416699096679687; Learning rate: 0.05\n",
      "Epoch 10 Train loss: 0.15556589050292968; Valid loss: 1.032283154296875; Learning rate: 0.05\n",
      "Epoch 11 Train loss: 0.1456157651901245; Valid loss: 1.0261644348144532; Learning rate: 0.05\n",
      "Epoch 12 Train loss: 0.14540739269256592; Valid loss: 1.0204798767089844; Learning rate: 0.05\n",
      "Epoch 13 Train loss: 0.14706166667938234; Valid loss: 1.0181107727050782; Learning rate: 0.05\n",
      "Epoch 14 Train loss: 0.12043429088592529; Valid loss: 0.9900393493652344; Learning rate: 0.025\n",
      "Epoch 15 Train loss: 0.07968407306671142; Valid loss: 0.9858634582519531; Learning rate: 0.025\n",
      "Epoch 16 Train loss: 0.07201208057403564; Valid loss: 0.9864766845703125; Learning rate: 0.025\n",
      "Epoch 17 Train loss: 0.0600081862449646; Valid loss: 0.9825867370605469; Learning rate: 0.0125\n",
      "Epoch 18 Train loss: 0.056877054214477536; Valid loss: 0.9821348083496094; Learning rate: 0.0125\n",
      "Epoch 19 Train loss: 0.05221004362106323; Valid loss: 0.9807533935546875; Learning rate: 0.00625\n",
      "Epoch 20 Train loss: 0.05259241352081299; Valid loss: 0.9799900329589843; Learning rate: 0.00625\n",
      "Epoch 21 Train loss: 0.053103150367736815; Valid loss: 0.979490673828125; Learning rate: 0.00625\n",
      "Epoch 22 Train loss: 0.053325063514709475; Valid loss: 0.9791566223144531; Learning rate: 0.00625\n",
      "Epoch 23 Train loss: 0.05240937929153442; Valid loss: 0.9787869323730469; Learning rate: 0.005\n",
      "Epoch 24 Train loss: 0.05271375789642334; Valid loss: 0.9785853637695312; Learning rate: 0.005\n",
      "Epoch 25 Train loss: 0.0528423394203186; Valid loss: 0.97802998046875; Learning rate: 0.005\n",
      "Epoch 26 Train loss: 0.05287848272323609; Valid loss: 0.9780472045898437; Learning rate: 0.005\n",
      "Epoch 27 Train loss: 0.05290383062362671; Valid loss: 0.9778429260253906; Learning rate: 0.005\n",
      "Epoch 28 Train loss: 0.05291353387832642; Valid loss: 0.9776552368164062; Learning rate: 0.005\n",
      "Epoch 29 Train loss: 0.052949163722991945; Valid loss: 0.9771639831542969; Learning rate: 0.005\n",
      "Epoch 30 Train loss: 0.05286307210922241; Valid loss: 0.9772119323730468; Learning rate: 0.005\n",
      "Epoch 31 Train loss: 0.0528012225151062; Valid loss: 0.9773124206542969; Learning rate: 0.005\n",
      "early stopping after epoch 31\n"
     ]
    }
   ],
   "source": [
    "#training\n",
    "for e in tqdm_notebook(range(nb_epoch)): \n",
    "    #train\n",
    "    model.train()\n",
    "    train_loss = 0\n",
    "    for u,i,r in train_dl:\n",
    "        #prediction\n",
    "        r_pred = model(u,i)\n",
    "        r = r.squeeze()\n",
    "        \n",
    "        #loss\n",
    "        loss = crit(r_pred,r)\n",
    "        \n",
    "        #backprop\n",
    "        optim.zero_grad()\n",
    "        loss.backward()\n",
    "        optim.step()\n",
    "        train_loss+= loss.detach().item()\n",
    "    #record\n",
    "    current_lr = scheduler.optimizer.param_groups[0]['lr']\n",
    "    lrs.append(current_lr)\n",
    "    train_loss /= len(train_ds)\n",
    "    train_losses.append(train_loss)\n",
    "    \n",
    "    #valid\n",
    "    model.eval()\n",
    "    valid_loss = 0\n",
    "    for u,i,r in valid_dl:\n",
    "        r_pred = model(u,i)\n",
    "        r = r.squeeze()\n",
    "        loss = crit(r_pred,r)\n",
    "        valid_loss+=loss.detach().item()\n",
    "    valid_loss/=len(valid_ds)\n",
    "    #record\n",
    "    valid_losses.append(valid_loss)\n",
    "    print(f'Epoch {e} Train loss: {train_loss}; Valid loss: {valid_loss}; Learning rate: {current_lr}')\n",
    "\n",
    "    #choose best model\n",
    "    if valid_loss < best_loss:\n",
    "        best_loss = valid_loss\n",
    "        best_weights = deepcopy(model.state_dict())\n",
    "        no_improvements = 0\n",
    "    else:\n",
    "        no_improvements += 1\n",
    "\n",
    "    #early stopping\n",
    "    if no_improvements >= early_stop:\n",
    "        print(f'early stopping after epoch {e}')\n",
    "        break\n",
    "    \n",
    "    #step scheduler\n",
    "    scheduler.step(valid_loss)"
   ]
  },
  {
   "cell_type": "code",
   "execution_count": 17,
   "metadata": {},
   "outputs": [
    {
     "data": {
      "text/plain": [
       "[<matplotlib.lines.Line2D at 0x17c24c9d0>]"
      ]
     },
     "execution_count": 17,
     "metadata": {},
     "output_type": "execute_result"
    },
    {
     "data": {
      "image/png": "[encoded data removed]",
      "text/plain": [
       "<Figure size 640x480 with 1 Axes>"
      ]
     },
     "metadata": {},
     "output_type": "display_data"
    }
   ],
   "source": [
    "plt.plot(train_losses)\n",
    "plt.plot(valid_losses)"
   ]
  },
  {
   "cell_type": "code",
   "execution_count": 18,
   "metadata": {},
   "outputs": [
    {
     "data": {
      "text/plain": [
       "[<matplotlib.lines.Line2D at 0x17adba250>]"
      ]
     },
     "execution_count": 18,
     "metadata": {},
     "output_type": "execute_result"
    },
    {
     "data": {
      "image/png": "[encoded data removed]",
      "text/plain": [
       "<Figure size 640x480 with 1 Axes>"
      ]
     },
     "metadata": {},
     "output_type": "display_data"
    }
   ],
   "source": [
    "plt.plot(lrs)"
   ]
  },
  {
   "cell_type": "markdown",
   "metadata": {},
   "source": [
    "The RMSE value of 0.986 suggests that, on average, the model's predictions are approximately 0.986 units away from the true ratings observed in the dataset"
   ]
  },
  {
   "cell_type": "code",
   "execution_count": 19,
   "metadata": {},
   "outputs": [
    {
     "name": "stdout",
     "output_type": "stream",
     "text": [
      "Best RMSE: 0.9885160510352358\n"
     ]
    }
   ],
   "source": [
    "print(f'Best RMSE: {np.sqrt(best_loss)}')"
   ]
  },
  {
   "cell_type": "markdown",
   "metadata": {},
   "source": [
    "### Item Embeddings"
   ]
  },
  {
   "cell_type": "markdown",
   "metadata": {},
   "source": [
    "The useful thing about having item bias is that we can use it to rank our items, in this case, movies. Movies with more positive bias values are considered to be the \"better\" ones."
   ]
  },
  {
   "cell_type": "code",
   "execution_count": 20,
   "metadata": {},
   "outputs": [
    {
     "data": {
      "text/html": [
       "<div>\n",
       "<style scoped>\n",
       "    .dataframe tbody tr th:only-of-type {\n",
       "        vertical-align: middle;\n",
       "    }\n",
       "\n",
       "    .dataframe tbody tr th {\n",
       "        vertical-align: top;\n",
       "    }\n",
       "\n",
       "    .dataframe thead th {\n",
       "        text-align: right;\n",
       "    }\n",
       "</style>\n",
       "<table border=\"1\" class=\"dataframe\">\n",
       "  <thead>\n",
       "    <tr style=\"text-align: right;\">\n",
       "      <th></th>\n",
       "      <th>item_id</th>\n",
       "      <th>title</th>\n",
       "    </tr>\n",
       "  </thead>\n",
       "  <tbody>\n",
       "    <tr>\n",
       "      <th>0</th>\n",
       "      <td>0</td>\n",
       "      <td>Toy Story (1995)</td>\n",
       "    </tr>\n",
       "    <tr>\n",
       "      <th>1</th>\n",
       "      <td>1</td>\n",
       "      <td>GoldenEye (1995)</td>\n",
       "    </tr>\n",
       "    <tr>\n",
       "      <th>2</th>\n",
       "      <td>2</td>\n",
       "      <td>Four Rooms (1995)</td>\n",
       "    </tr>\n",
       "    <tr>\n",
       "      <th>3</th>\n",
       "      <td>3</td>\n",
       "      <td>Get Shorty (1995)</td>\n",
       "    </tr>\n",
       "    <tr>\n",
       "      <th>4</th>\n",
       "      <td>4</td>\n",
       "      <td>Copycat (1995)</td>\n",
       "    </tr>\n",
       "  </tbody>\n",
       "</table>\n",
       "</div>"
      ],
      "text/plain": [
       "   item_id              title\n",
       "0        0   Toy Story (1995)\n",
       "1        1   GoldenEye (1995)\n",
       "2        2  Four Rooms (1995)\n",
       "3        3  Get Shorty (1995)\n",
       "4        4     Copycat (1995)"
      ]
     },
     "execution_count": 20,
     "metadata": {},
     "output_type": "execute_result"
    }
   ],
   "source": [
    "item_df = pd.read_csv(f'{data_path}u.item', delimiter='|', encoding='latin-1', header=None,\n",
    "                    names=['item_id', 'title', 'date', 'N', 'url', *[f'g{i}' for i in range(19)]])\n",
    "item_df = item_df[['item_id','title']].copy()\n",
    "item_df['item_id'] = item_df.item_id.map(lambda x: int(x)-1)\n",
    "item_df.head()"
   ]
  },
  {
   "cell_type": "code",
   "execution_count": 21,
   "metadata": {},
   "outputs": [],
   "source": [
    "movie_ranking = []\n",
    "for item_id in model.item_bias.weight.data.squeeze().argsort().cpu().numpy():\n",
    "    movie_ranking.append((item_df.iloc[item_id,1],model.item_bias.weight.data[item_id].item()))"
   ]
  },
  {
   "cell_type": "code",
   "execution_count": 22,
   "metadata": {},
   "outputs": [
    {
     "data": {
      "text/plain": [
       "[(\"Schindler's List (1993)\", 1.4046053886413574),\n",
       " ('Star Wars (1977)', 1.3436154127120972),\n",
       " ('Shawshank Redemption, The (1994)', 1.320573329925537),\n",
       " ('Usual Suspects, The (1995)', 1.288450002670288),\n",
       " ('Casablanca (1942)', 1.2559411525726318),\n",
       " ('Wrong Trousers, The (1993)', 1.2448722124099731),\n",
       " ('Raiders of the Lost Ark (1981)', 1.2420443296432495),\n",
       " ('Close Shave, A (1995)', 1.240096926689148),\n",
       " ('Boot, Das (1981)', 1.164164423942566),\n",
       " ('Titanic (1997)', 1.158056378364563)]"
      ]
     },
     "execution_count": 22,
     "metadata": {},
     "output_type": "execute_result"
    }
   ],
   "source": [
    "#best rated movies\n",
    "movie_ranking[::-1][:10]"
   ]
  },
  {
   "cell_type": "code",
   "execution_count": 23,
   "metadata": {},
   "outputs": [
    {
     "data": {
      "text/plain": [
       "[('Children of the Corn: The Gathering (1996)', -1.02069890499115),\n",
       " ('Crow: City of Angels, The (1996)', -0.9758864641189575),\n",
       " (\"McHale's Navy (1997)\", -0.8644041419029236),\n",
       " ('Island of Dr. Moreau, The (1996)', -0.8419828414916992),\n",
       " ('Bio-Dome (1996)', -0.8384366035461426),\n",
       " ('Tales from the Hood (1995)', -0.818282425403595),\n",
       " ('Mortal Kombat: Annihilation (1997)', -0.8130898475646973),\n",
       " ('Speed 2: Cruise Control (1997)', -0.8128420114517212),\n",
       " ('Free Willy 3: The Rescue (1997)', -0.8028883934020996),\n",
       " ('Leave It to Beaver (1997)', -0.8024547696113586)]"
      ]
     },
     "execution_count": 23,
     "metadata": {},
     "output_type": "execute_result"
    }
   ],
   "source": [
    "#worst rated movies\n",
    "movie_ranking[:10]"
   ]
  },
  {
   "cell_type": "markdown",
   "metadata": {},
   "source": [
    "## Deep Learning"
   ]
  },
  {
   "cell_type": "markdown",
   "metadata": {},
   "source": [
    "### Architecture"
   ]
  },
  {
   "cell_type": "markdown",
   "metadata": {},
   "source": [
    "The architecture as described in [Deep Neural Networks for YouTube Recommendations](https://static.googleusercontent.com/media/research.google.com/en//pubs/archive/45530.pdf) consists of two parts:\n",
    "1. **Embedding Layers** to convert user and item indice to embedding vectors\n",
    "2. **Fully-connected Layers** to take input of concatenated embedding vectors and output the rating"
   ]
  },
  {
   "cell_type": "markdown",
   "metadata": {},
   "source": [
    "The `ConcatNet` class is a PyTorch neural network module designed for collaborative filtering tasks. It incorporates user and item embeddings, each followed by a dropout layer for regularization. These embeddings are concatenated and passed through fully connected layers with ReLU activation, batch normalization, and dropout. \n",
    "\n",
    "Finally, a linear layer produces the output ratings, which are scaled to the specified rating range using a sigmoid activation function. This architecture efficiently learns to predict user-item ratings, making it suitable for recommendation systems."
   ]
  },
  {
   "cell_type": "code",
   "execution_count": 24,
   "metadata": {},
   "outputs": [],
   "source": [
    "class ConcatNet(nn.Module):\n",
    "    def __init__(self, config):\n",
    "        super(ConcatNet, self).__init__()\n",
    "        #hyperparameters\n",
    "        self.config = config\n",
    "        self.nb_users = config['nb_users']\n",
    "        self.nb_items = config['nb_items']\n",
    "        self.emb_sz = config['emb_sz']\n",
    "        self.emb_p = config['emb_p']\n",
    "        self.fc_sz = config['fc_sz']\n",
    "        self.ps = config['ps']\n",
    "        self.y_range = config['y_range']\n",
    "\n",
    "        #embeddings\n",
    "        self.emb_user = nn.Sequential(\n",
    "            nn.Embedding(num_embeddings=self.nb_users, embedding_dim=self.emb_sz),\n",
    "            nn.Dropout(p=self.emb_p))\n",
    "        self.emb_item = nn.Sequential(\n",
    "            nn.Embedding(num_embeddings=self.nb_items, embedding_dim=self.emb_sz),\n",
    "            nn.Dropout(p=self.emb_p))\n",
    "\n",
    "        #fully-connected layers\n",
    "        fc_layers_list = []\n",
    "        for ni,nf,p in zip(self.fc_sz[:-1], self.fc_sz[1:], self.ps):\n",
    "            fc_layers_list.append(nn.Linear(ni, nf))\n",
    "            fc_layers_list.append(nn.ReLU(inplace=True))\n",
    "            fc_layers_list.append(nn.BatchNorm1d(nf))\n",
    "            fc_layers_list.append(nn.Dropout(p=p))\n",
    "        self.fc_layers = nn.Sequential(*fc_layers_list)\n",
    "\n",
    "        #output head\n",
    "        self.head = torch.nn.Linear(in_features=self.fc_sz[-1], out_features=1)\n",
    "\n",
    "    def forward(self, user_idx, item_idx):\n",
    "        user_emb = self.emb_user(user_idx)\n",
    "        item_emb = self.emb_item(item_idx)\n",
    "        x = torch.cat([user_emb, item_emb], dim=1)\n",
    "        x = self.fc_layers(x)\n",
    "        x = torch.sigmoid(self.head(x))\n",
    "        x = x * (self.y_range[1] - self.y_range[0]) + self.y_range[0]\n",
    "        return(x)"
   ]
  },
  {
   "cell_type": "code",
   "execution_count": 25,
   "metadata": {},
   "outputs": [
    {
     "data": {
      "text/plain": [
       "ConcatNet(\n",
       "  (emb_user): Sequential(\n",
       "    (0): Embedding(943, 50)\n",
       "    (1): Dropout(p=0.05, inplace=False)\n",
       "  )\n",
       "  (emb_item): Sequential(\n",
       "    (0): Embedding(1682, 50)\n",
       "    (1): Dropout(p=0.05, inplace=False)\n",
       "  )\n",
       "  (fc_layers): Sequential(\n",
       "    (0): Linear(in_features=100, out_features=512, bias=True)\n",
       "    (1): ReLU(inplace=True)\n",
       "    (2): BatchNorm1d(512, eps=1e-05, momentum=0.1, affine=True, track_running_stats=True)\n",
       "    (3): Dropout(p=0.7, inplace=False)\n",
       "    (4): Linear(in_features=512, out_features=256, bias=True)\n",
       "    (5): ReLU(inplace=True)\n",
       "    (6): BatchNorm1d(256, eps=1e-05, momentum=0.1, affine=True, track_running_stats=True)\n",
       "    (7): Dropout(p=0.35, inplace=False)\n",
       "  )\n",
       "  (head): Linear(in_features=256, out_features=1, bias=True)\n",
       ")"
      ]
     },
     "execution_count": 25,
     "metadata": {},
     "output_type": "execute_result"
    }
   ],
   "source": [
    "config = {\n",
    "    'nb_users':943, #how many unique users\n",
    "    'nb_items':1682, #how many unique items\n",
    "    'emb_sz':50, #size of embedding vector\n",
    "    'emb_p': 0.05, #dropout for embedding\n",
    "    'fc_sz': [100, 512, 256], #size of fully-connected layers\n",
    "    'ps': [0.7,0.35], #dropout for fully-connected layers\n",
    "    'y_range': [0.8,5.2]} #range of output\n",
    "model = ConcatNet(config)\n",
    "model"
   ]
  },
  {
   "cell_type": "markdown",
   "metadata": {},
   "source": [
    "### Training"
   ]
  },
  {
   "cell_type": "code",
   "execution_count": 26,
   "metadata": {},
   "outputs": [],
   "source": [
    "#hyperparameters\n",
    "bs = 2000 #batch size\n",
    "lr = 1e-2 #learning rate\n",
    "wd = 5e-1 #weight decay parameter\n",
    "nb_epoch = 100 #how many epochs to train\n",
    "reduce_lr = 1 #reduce learning rate if loss stagnates more than x epochs\n",
    "early_stop = 2 #stop if validation loss doesnt improve for x epochs\n",
    "\n",
    "config = {\n",
    "    'nb_users':943, #how many unique users\n",
    "    'nb_items':1682, #how many unique items\n",
    "    'emb_sz':50, #size of embedding vector\n",
    "    'emb_p': 0.05, #dropout for embedding\n",
    "    'fc_sz': [100, 512, 256], #size of fully-connected layers\n",
    "    'ps': [0.7,0.35], #dropout for fully-connected layers\n",
    "    'y_range': [0.8,5.2]} #range of output\n",
    "\n",
    "#recording\n",
    "lrs = []\n",
    "train_losses=[]\n",
    "valid_losses = []\n",
    "best_loss = np.inf\n",
    "best_weights = None\n",
    "\n",
    "#datasets/loaders\n",
    "train_ds = CollabRatingDataset(train_df)\n",
    "train_dl = DataLoader(train_ds, batch_size=bs, shuffle=True, num_workers=0)\n",
    "valid_ds = CollabRatingDataset(valid_df)\n",
    "valid_dl = DataLoader(valid_ds, batch_size=bs, shuffle=True, num_workers=0)\n",
    "\n",
    "#model\n",
    "model = ConcatNet(config)\n",
    "crit = nn.MSELoss(reduction='sum')\n",
    "optim = torch.optim.Adam(model.parameters(), lr=lr, betas=(0.9,0.999), weight_decay=wd)\n",
    "scheduler = torch.optim.lr_scheduler.ReduceLROnPlateau(optim, mode='min',factor=0.5, threshold=1e-3,\n",
    "                                                       patience=reduce_lr, min_lr=lr/10)"
   ]
  },
  {
   "cell_type": "code",
   "execution_count": 27,
   "metadata": {},
   "outputs": [
    {
     "name": "stderr",
     "output_type": "stream",
     "text": [
      "/var/folders/2d/m0qd4v854cx_54f5rs6b_6x40000gn/T/ipykernel_20293/512315390.py:2: TqdmDeprecationWarning: This function will be removed in tqdm==5.0.0\n",
      "Please use `tqdm.notebook.tqdm` instead of `tqdm.tqdm_notebook`\n",
      "  for e in tqdm_notebook(range(nb_epoch)):\n"
     ]
    },
    {
     "data": {
      "application/vnd.jupyter.widget-view+json": {
       "model_id": "4bb8b83277d04e62aa34b17c268aba38",
       "version_major": 2,
       "version_minor": 0
      },
      "text/plain": [
       "  0%|          | 0/100 [00:00<?, ?it/s]"
      ]
     },
     "metadata": {},
     "output_type": "display_data"
    },
    {
     "name": "stdout",
     "output_type": "stream",
     "text": [
      "Epoch 0 Train loss: 1.354258056640625; Valid loss: 1.1808664794921875; Learning rate: 0.01\n",
      "Epoch 1 Train loss: 1.0977836868286133; Valid loss: 1.0626347290039062; Learning rate: 0.01\n",
      "Epoch 2 Train loss: 0.9839313690185547; Valid loss: 0.9750983215332031; Learning rate: 0.01\n",
      "Epoch 3 Train loss: 0.9261352600097656; Valid loss: 0.9478963623046875; Learning rate: 0.01\n",
      "Epoch 4 Train loss: 0.9002969375610351; Valid loss: 0.9334682189941407; Learning rate: 0.01\n",
      "Epoch 5 Train loss: 0.8822707717895508; Valid loss: 0.9128025756835938; Learning rate: 0.01\n",
      "Epoch 6 Train loss: 0.8707957305908203; Valid loss: 0.9086950134277344; Learning rate: 0.01\n",
      "Epoch 7 Train loss: 0.8630372024536133; Valid loss: 0.8989984619140625; Learning rate: 0.01\n",
      "Epoch 8 Train loss: 0.8525817184448242; Valid loss: 0.9006611389160156; Learning rate: 0.01\n",
      "Epoch 9 Train loss: 0.8413382766723633; Valid loss: 0.8865831420898438; Learning rate: 0.01\n",
      "Epoch 10 Train loss: 0.8303435424804687; Valid loss: 0.8717898071289063; Learning rate: 0.01\n",
      "Epoch 11 Train loss: 0.8232275848388672; Valid loss: 0.876355224609375; Learning rate: 0.01\n",
      "Epoch 12 Train loss: 0.8169053833007812; Valid loss: 0.8728550231933594; Learning rate: 0.01\n",
      "early stopping after epoch 12\n"
     ]
    }
   ],
   "source": [
    "#training\n",
    "for e in tqdm_notebook(range(nb_epoch)): \n",
    "    #train\n",
    "    model.train()\n",
    "    train_loss = 0\n",
    "    for u,i,r in train_dl:\n",
    "        #prediction\n",
    "        r_pred = model(u,i)\n",
    "        r = r[:,None]\n",
    "        \n",
    "        #loss\n",
    "        loss = crit(r_pred,r)\n",
    "        \n",
    "        #backprop\n",
    "        optim.zero_grad()\n",
    "        loss.backward()\n",
    "        optim.step()\n",
    "        train_loss+= loss.detach().item()\n",
    "    #record\n",
    "    current_lr = scheduler.optimizer.param_groups[0]['lr']\n",
    "    lrs.append(current_lr)\n",
    "    train_loss /= len(train_ds)\n",
    "    train_losses.append(train_loss)\n",
    "    \n",
    "    #valid\n",
    "    model.eval()\n",
    "    valid_loss = 0\n",
    "    for u,i,r in valid_dl:\n",
    "        r_pred = model(u,i)\n",
    "        r = r[:,None]\n",
    "        loss = crit(r_pred,r)\n",
    "        valid_loss+=loss.detach().item()\n",
    "    valid_loss/=len(valid_ds)\n",
    "    #record\n",
    "    valid_losses.append(valid_loss)\n",
    "    print(f'Epoch {e} Train loss: {train_loss}; Valid loss: {valid_loss}; Learning rate: {current_lr}')\n",
    "\n",
    "    #choose best model\n",
    "    if valid_loss < best_loss:\n",
    "        best_loss = valid_loss\n",
    "        best_weights = deepcopy(model.state_dict())\n",
    "        no_improvements = 0\n",
    "    else:\n",
    "        no_improvements += 1\n",
    "\n",
    "    #early stopping\n",
    "    if no_improvements >= early_stop:\n",
    "        print(f'early stopping after epoch {e}')\n",
    "        break\n",
    "    \n",
    "    #step scheduler\n",
    "    scheduler.step(valid_loss)"
   ]
  },
  {
   "cell_type": "code",
   "execution_count": 28,
   "metadata": {},
   "outputs": [
    {
     "data": {
      "text/plain": [
       "[<matplotlib.lines.Line2D at 0x17c279a10>]"
      ]
     },
     "execution_count": 28,
     "metadata": {},
     "output_type": "execute_result"
    },
    {
     "data": {
      "image/png": "[encoded data removed]",
      "text/plain": [
       "<Figure size 640x480 with 1 Axes>"
      ]
     },
     "metadata": {},
     "output_type": "display_data"
    }
   ],
   "source": [
    "plt.plot(train_losses)\n",
    "plt.plot(valid_losses)"
   ]
  },
  {
   "cell_type": "code",
   "execution_count": 29,
   "metadata": {},
   "outputs": [
    {
     "data": {
      "text/plain": [
       "[<matplotlib.lines.Line2D at 0x171932250>]"
      ]
     },
     "execution_count": 29,
     "metadata": {},
     "output_type": "execute_result"
    },
    {
     "data": {
      "image/png": "[encoded data removed]",
      "text/plain": [
       "<Figure size 640x480 with 1 Axes>"
      ]
     },
     "metadata": {},
     "output_type": "display_data"
    }
   ],
   "source": [
    "plt.plot(lrs)"
   ]
  },
  {
   "cell_type": "markdown",
   "metadata": {},
   "source": [
    " \"Best RMSE: 0.9346088035764784\" indicates that the Root Mean Square Error (RMSE) achieved by the Deep Learning model is approximately 0.935. This implies that, on average, the predictions made by the Deep Learning model are about 0.935 units away from the actual ratings in the dataset."
   ]
  },
  {
   "cell_type": "code",
   "execution_count": 30,
   "metadata": {},
   "outputs": [
    {
     "name": "stdout",
     "output_type": "stream",
     "text": [
      "Best RMSE: 0.9336968496942175\n"
     ]
    }
   ],
   "source": [
    "print(f'Best RMSE: {np.sqrt(best_loss)}')"
   ]
  },
  {
   "cell_type": "code",
   "execution_count": 31,
   "metadata": {},
   "outputs": [
    {
     "name": "stdout",
     "output_type": "stream",
     "text": [
      "User IDs: [  0   1   2   3   4   5   6   7   8   9  10  11  12  13  14  15  16  17\n",
      "  18  19  20  21  22  23  24  25  26  27  28  29  30  31  32  33  34  35\n",
      "  36  37  38  39  40  41  42  43  44  45  46  47  48  49  50  51  52  53\n",
      "  54  55  56  57  58  59  60  61  62  63  64  65  66  67  68  69  70  71\n",
      "  72  73  74  75  76  77  78  79  80  81  82  83  84  85  86  87  88  89\n",
      "  90  91  92  93  94  95  96  97  98  99 100 101 102 103 104 105 106 107\n",
      " 108 109 110 111 112 113 114 115 116 117 118 119 120 121 122 123 124 125\n",
      " 126 127 128 129 130 131 132 133 134 135 136 137 138 139 140 141 142 143\n",
      " 144 145 146 147 148 149 150 151 152 153 154 155 156 157 158 159 160 161\n",
      " 162 163 164 165 166 167 168 169 170 171 172 173 174 175 176 177 178 179\n",
      " 180 181 182 183 184 185 186 187 188 189 190 191 192 193 194 195 196 197\n",
      " 198 199 200 201 202 203 204 205 206 207 208 209 210 211 212 213 214 215\n",
      " 216 217 218 219 220 221 222 223 224 225 226 227 228 229 230 231 232 233\n",
      " 234 235 236 237 238 239 240 241 242 243 244 245 246 247 248 249 250 251\n",
      " 252 253 254 255 256 257 258 259 260 261 262 263 264 265 266 267 268 269\n",
      " 270 271 272 273 274 275 276 277 278 279 280 281 282 283 284 285 286 287\n",
      " 288 289 290 291 292 293 294 295 296 297 298 299 300 301 302 303 304 305\n",
      " 306 307 308 309 310 311 312 313 314 315 316 317 318 319 320 321 322 323\n",
      " 324 325 326 327 328 329 330 331 332 333 334 335 336 337 338 339 340 341\n",
      " 342 343 344 345 346 347 348 349 350 351 352 353 354 355 356 357 358 359\n",
      " 360 361 362 363 364 365 366 367 368 369 370 371 372 373 374 375 376 377\n",
      " 378 379 380 381 382 383 384 385 386 387 388 389 390 391 392 393 394 395\n",
      " 396 397 398 399 400 401 402 403 404 405 406 407 408 409 410 411 412 413\n",
      " 414 415 416 417 418 419 420 421 422 423 424 425 426 427 428 429 430 431\n",
      " 432 433 434 435 436 437 438 439 440 441 442 443 444 445 446 447 448 449\n",
      " 450 451 452 453 454 455 456 457 458 459 460 461 462 463 464 465 466 467\n",
      " 468 469 470 471 472 473 474 475 476 477 478 479 480 481 482 483 484 485\n",
      " 486 487 488 489 490 491 492 493 494 495 496 497 498 499 500 501 502 503\n",
      " 504 505 506 507 508 509 510 511 512 513 514 515 516 517 518 519 520 521\n",
      " 522 523 524 525 526 527 528 529 530 531 532 533 534 535 536 537 538 539\n",
      " 540 541 542 543 544 545 546 547 548 549 550 551 552 553 554 555 556 557\n",
      " 558 559 560 561 562 563 564 565 566 567 568 569 570 571 572 573 574 575\n",
      " 576 577 578 579 580 581 582 583 584 585 586 587 588 589 590 591 592 593\n",
      " 594 595 596 597 598 599 600 601 602 603 604 605 606 607 608 609 610 611\n",
      " 612 613 614 615 616 617 618 619 620 621 622 623 624 625 626 627 628 629\n",
      " 630 631 632 633 634 635 636 637 638 639 640 641 642 643 644 645 646 647\n",
      " 648 649 650 651 652 653 654 655 656 657 658 659 660 661 662 663 664 665\n",
      " 666 667 668 669 670 671 672 673 674 675 676 677 678 679 680 681 682 683\n",
      " 684 685 686 687 688 689 690 691 692 693 694 695 696 697 698 699 700 701\n",
      " 702 703 704 705 706 707 708 709 710 711 712 713 714 715 716 717 718 719\n",
      " 720 721 722 723 724 725 726 727 728 729 730 731 732 733 734 735 736 737\n",
      " 738 739 740 741 742 743 744 745 746 747 748 749 750 751 752 753 754 755\n",
      " 756 757 758 759 760 761 762 763 764 765 766 767 768 769 770 771 772 773\n",
      " 774 775 776 777 778 779 780 781 782 783 784 785 786 787 788 789 790 791\n",
      " 792 793 794 795 796 797 798 799 800 801 802 803 804 805 806 807 808 809\n",
      " 810 811 812 813 814 815 816 817 818 819 820 821 822 823 824 825 826 827\n",
      " 828 829 830 831 832 833 834 835 836 837 838 839 840 841 842 843 844 845\n",
      " 846 847 848 849 850 851 852 853 854 855 856 857 858 859 860 861 862 863\n",
      " 864 865 866 867 868 869 870 871 872 873 874 875 876 877 878 879 880 881\n",
      " 882 883 884 885 886 887 888 889 890 891 892 893 894 895 896 897 898 899\n",
      " 900 901 902 903 904 905 906 907 908 909 910 911 912 913 914 915 916 917\n",
      " 918 919 920 921 922 923 924 925 926 927 928 929 930 931 932 933 934 935\n",
      " 936 937 938 939 940 941 942]\n"
     ]
    }
   ],
   "source": [
    "# Display user IDs\n",
    "user_ids = train_df['user_id'].unique()\n",
    "print(\"User IDs:\", user_ids)\n"
   ]
  },
  {
   "cell_type": "code",
   "execution_count": 32,
   "metadata": {},
   "outputs": [
    {
     "name": "stdout",
     "output_type": "stream",
     "text": [
      "Top 10 recommended movies for User 0 : [('Shawshank Redemption, The (1994)', 4.644059658050537), (\"Schindler's List (1993)\", 4.624378681182861), ('Casablanca (1942)', 4.620813846588135), ('Star Wars (1977)', 4.605950832366943), ('Wrong Trousers, The (1993)', 4.5931315422058105), ('Usual Suspects, The (1995)', 4.5863037109375), ('Good Will Hunting (1997)', 4.564269065856934), ('Rear Window (1954)', 4.525603771209717), ('Raiders of the Lost Ark (1981)', 4.519867420196533), ('Close Shave, A (1995)', 4.514516353607178)]\n"
     ]
    }
   ],
   "source": [
    "def recommend_movies(user_id, model, item_df, train_df, top_n=10):\n",
    "    # Create a list to store recommended movies\n",
    "    recommended_movies = []\n",
    "    \n",
    "    # Get the list of all movie IDs\n",
    "    all_movie_ids = torch.arange(len(item_df)).to(device)\n",
    "    \n",
    "    # Filter out movies that the user has already rated\n",
    "    user_rated_movies = train_df[train_df['user_id'] == user_id]['item_id'].values\n",
    "    all_movie_ids = [movie_id for movie_id in all_movie_ids if movie_id not in user_rated_movies]\n",
    "    \n",
    "    # Iterate over all remaining movies\n",
    "    for movie_id in all_movie_ids:\n",
    "        # Predict the rating for the user and the current movie\n",
    "        predicted_rating = model(torch.tensor([user_id]).to(device), torch.tensor([movie_id]).to(device)).item()\n",
    "        \n",
    "        # Append the movie ID and predicted rating to the list\n",
    "        recommended_movies.append((movie_id, predicted_rating))\n",
    "    \n",
    "    # Sort the recommended movies based on predicted rating in descending order\n",
    "    recommended_movies = sorted(recommended_movies, key=lambda x: x[1], reverse=True)\n",
    "    \n",
    "    # Get the top N recommended movies\n",
    "    top_n_movies = recommended_movies[:top_n]\n",
    "    \n",
    "    # Map movie IDs to movie titles\n",
    "    top_n_movie_titles = [(item_df.iloc[movie_id.item()]['title'], rating) for movie_id, rating in top_n_movies]\n",
    "    \n",
    "    return top_n_movie_titles\n",
    "\n",
    "# Example usage:\n",
    "user_id = 0  # Specify the user ID for whom you want to recommend movies\n",
    "recommended_movies = recommend_movies(user_id, model, item_df, train_df)\n",
    "print(\"Top 10 recommended movies for User\", user_id, \":\", recommended_movies)\n"
   ]
  },
  {
   "cell_type": "code",
   "execution_count": 35,
   "metadata": {},
   "outputs": [
    {
     "name": "stdout",
     "output_type": "stream",
     "text": [
      "Top-rated movie for User 1: Emma (1996)\n",
      "Top-rated movie for User 2: Wag the Dog (1997)\n",
      "Top-rated movie for User 3: Contact (1997)\n",
      "Top-rated movie for User 4: Blues Brothers, The (1980)\n",
      "Top-rated movie for User 5: Annie Hall (1977)\n",
      "Top-rated movie for User 6: Get Shorty (1995)\n",
      "Top-rated movie for User 7: Star Trek III: The Search for Spock (1984)\n",
      "Top-rated movie for User 8: Star Wars (1977)\n",
      "Top-rated movie for User 9: Clockwork Orange, A (1971)\n",
      "Top-rated movie for User 10: Amistad (1997)\n",
      "Top-rated movie for User 11: Get Shorty (1995)\n",
      "Top-rated movie for User 12: Cinema Paradiso (1988)\n",
      "Top-rated movie for User 13: Usual Suspects, The (1995)\n",
      "Top-rated movie for User 14: FairyTale: A True Story (1997)\n",
      "Top-rated movie for User 16: Swingers (1996)\n",
      "Top-rated movie for User 17: Room with a View, A (1986)\n",
      "Top-rated movie for User 18: Babe (1995)\n",
      "Top-rated movie for User 19: It's a Wonderful Life (1946)\n",
      "Top-rated movie for User 21: Fifth Element, The (1997)\n",
      "Top-rated movie for User 22: Close Shave, A (1995)\n",
      "Top-rated movie for User 23: Sling Blade (1996)\n",
      "Top-rated movie for User 25: L.A. Confidential (1997)\n",
      "Top-rated movie for User 26: Frighteners, The (1996)\n",
      "Top-rated movie for User 27: Pulp Fiction (1994)\n",
      "Top-rated movie for User 28: Usual Suspects, The (1995)\n",
      "Top-rated movie for User 29: Contact (1997)\n",
      "Top-rated movie for User 30: Crumb (1994)\n",
      "Top-rated movie for User 31: Face/Off (1997)\n",
      "Top-rated movie for User 32: Event Horizon (1997)\n",
      "Top-rated movie for User 33: Rosewood (1997)\n",
      "Top-rated movie for User 34: Air Force One (1997)\n",
      "Top-rated movie for User 35: Air Bud (1997)\n",
      "Top-rated movie for User 36: Star Wars (1977)\n",
      "Top-rated movie for User 37: Free Willy 2: The Adventure Home (1995)\n",
      "Top-rated movie for User 38: Scream (1996)\n",
      "Top-rated movie for User 39: Kolya (1996)\n",
      "Top-rated movie for User 40: Star Wars (1977)\n",
      "Top-rated movie for User 42: Primal Fear (1996)\n",
      "Top-rated movie for User 43: Henry V (1989)\n",
      "Top-rated movie for User 44: Star Wars (1977)\n",
      "Top-rated movie for User 45: In the Company of Men (1997)\n",
      "Top-rated movie for User 46: In the Company of Men (1997)\n",
      "Top-rated movie for User 47: One Flew Over the Cuckoo's Nest (1975)\n",
      "Top-rated movie for User 48: In the Company of Men (1997)\n",
      "Top-rated movie for User 49: Everyone Says I Love You (1996)\n",
      "Top-rated movie for User 50: Star Wars (1977)\n",
      "Top-rated movie for User 51: Twelve Monkeys (1995)\n",
      "Top-rated movie for User 52: Mr. Holland's Opus (1995)\n",
      "Top-rated movie for User 53: Good Will Hunting (1997)\n",
      "Top-rated movie for User 54: Braveheart (1995)\n",
      "Top-rated movie for User 55: Braveheart (1995)\n",
      "Top-rated movie for User 58: Seventh Seal, The (Sjunde inseglet, Det) (1957)\n",
      "Top-rated movie for User 59: Twelve Monkeys (1995)\n",
      "Top-rated movie for User 60: Air Force One (1997)\n",
      "Top-rated movie for User 61: Empire Strikes Back, The (1980)\n",
      "Top-rated movie for User 62: Celluloid Closet, The (1995)\n",
      "Top-rated movie for User 63: Richard III (1995)\n",
      "Top-rated movie for User 64: 12 Angry Men (1957)\n",
      "Top-rated movie for User 65: Air Force One (1997)\n",
      "Top-rated movie for User 66: Rock, The (1996)\n",
      "Top-rated movie for User 67: English Patient, The (1996)\n",
      "Top-rated movie for User 68: Twelve Monkeys (1995)\n",
      "Top-rated movie for User 69: Empire Strikes Back, The (1980)\n",
      "Top-rated movie for User 70: Monty Python and the Holy Grail (1974)\n",
      "Top-rated movie for User 71: Long Kiss Goodnight, The (1996)\n",
      "Top-rated movie for User 72: Graduate, The (1967)\n",
      "Top-rated movie for User 73: Titanic (1997)\n",
      "Top-rated movie for User 74: Birdcage, The (1996)\n",
      "Top-rated movie for User 75: Shanghai Triad (Yao a yao yao dao waipo qiao) (1995)\n",
      "Top-rated movie for User 77: Jerry Maguire (1996)\n",
      "Top-rated movie for User 78: Secrets & Lies (1996)\n",
      "Top-rated movie for User 79: Shawshank Redemption, The (1994)\n",
      "Top-rated movie for User 80: Fugitive, The (1993)\n",
      "Top-rated movie for User 81: Butch Cassidy and the Sundance Kid (1969)\n",
      "Top-rated movie for User 82: Fugitive, The (1993)\n",
      "Top-rated movie for User 83: English Patient, The (1996)\n",
      "Top-rated movie for User 84: Sleeper (1973)\n",
      "Top-rated movie for User 85: Gattaca (1997)\n",
      "Top-rated movie for User 86: Star Trek: The Wrath of Khan (1982)\n",
      "Top-rated movie for User 87: English Patient, The (1996)\n",
      "Top-rated movie for User 89: Babe (1995)\n",
      "Top-rated movie for User 90: Braveheart (1995)\n",
      "Top-rated movie for User 91: Clockwork Orange, A (1971)\n",
      "Top-rated movie for User 93: Trainspotting (1996)\n",
      "Top-rated movie for User 94: Babe (1995)\n",
      "Top-rated movie for User 95: Twelve Monkeys (1995)\n",
      "Top-rated movie for User 96: Fish Called Wanda, A (1988)\n",
      "Top-rated movie for User 97: Birdcage, The (1996)\n",
      "Top-rated movie for User 98: Empire Strikes Back, The (1980)\n",
      "Top-rated movie for User 99: Apt Pupil (1998)\n",
      "Top-rated movie for User 100: Men in Black (1997)\n",
      "Top-rated movie for User 101: Star Trek: The Motion Picture (1979)\n",
      "Top-rated movie for User 102: Pulp Fiction (1994)\n",
      "Top-rated movie for User 103: Mr. Holland's Opus (1995)\n",
      "Top-rated movie for User 104: Gattaca (1997)\n",
      "Top-rated movie for User 105: When Harry Met Sally... (1989)\n",
      "Top-rated movie for User 106: Big Lebowski, The (1998)\n",
      "Top-rated movie for User 107: Everyone Says I Love You (1996)\n",
      "Top-rated movie for User 108: Speed (1994)\n",
      "Top-rated movie for User 109: Titanic (1997)\n",
      "Top-rated movie for User 110: L.A. Confidential (1997)\n",
      "Top-rated movie for User 111: Good Will Hunting (1997)\n",
      "Top-rated movie for User 112: A Chef in Love (1996)\n",
      "Top-rated movie for User 113: Aliens (1986)\n",
      "Top-rated movie for User 114: Lone Star (1996)\n",
      "Top-rated movie for User 115: Seven (Se7en) (1995)\n",
      "Top-rated movie for User 116: Princess Bride, The (1987)\n",
      "Top-rated movie for User 117: Scream (1996)\n",
      "Top-rated movie for User 118: Twelve Monkeys (1995)\n",
      "Top-rated movie for User 119: Contact (1997)\n",
      "Top-rated movie for User 120: Titanic (1997)\n",
      "Top-rated movie for User 121: Short Cuts (1993)\n",
      "Top-rated movie for User 122: Dead Man Walking (1995)\n",
      "Top-rated movie for User 123: Monty Python's Life of Brian (1979)\n",
      "Top-rated movie for User 124: Die Hard (1988)\n",
      "Top-rated movie for User 125: Kull the Conqueror (1997)\n",
      "Top-rated movie for User 126: Stargate (1994)\n",
      "Top-rated movie for User 127: What's Love Got to Do with It (1993)\n",
      "Top-rated movie for User 128: English Patient, The (1996)\n",
      "Top-rated movie for User 130: Dead Man Walking (1995)\n",
      "Top-rated movie for User 131: Pulp Fiction (1994)\n",
      "Top-rated movie for User 132: Starship Troopers (1997)\n",
      "Top-rated movie for User 134: Silence of the Lambs, The (1991)\n",
      "Top-rated movie for User 135: Dead Man Walking (1995)\n",
      "Top-rated movie for User 136: True Lies (1994)\n",
      "Top-rated movie for User 137: Sting, The (1973)\n",
      "Top-rated movie for User 138: Fargo (1996)\n",
      "Top-rated movie for User 139: English Patient, The (1996)\n",
      "Top-rated movie for User 140: Twelve Monkeys (1995)\n",
      "Top-rated movie for User 141: Annie Hall (1977)\n",
      "Top-rated movie for User 142: Scream (1996)\n",
      "Top-rated movie for User 143: Fargo (1996)\n",
      "Top-rated movie for User 144: 2 Days in the Valley (1996)\n",
      "Top-rated movie for User 145: Devil's Own, The (1997)\n",
      "Top-rated movie for User 146: English Patient, The (1996)\n",
      "Top-rated movie for User 147: Fantasia (1940)\n",
      "Top-rated movie for User 148: English Patient, The (1996)\n",
      "Top-rated movie for User 149: Leaving Las Vegas (1995)\n",
      "Top-rated movie for User 151: Babe (1995)\n",
      "Top-rated movie for User 152: Fugitive, The (1993)\n",
      "Top-rated movie for User 153: Cool Hand Luke (1967)\n",
      "Top-rated movie for User 154: Mrs. Brown (Her Majesty, Mrs. Brown) (1997)\n",
      "Top-rated movie for User 155: North by Northwest (1959)\n",
      "Top-rated movie for User 156: Fargo (1996)\n",
      "Top-rated movie for User 157: Emma (1996)\n",
      "Top-rated movie for User 158: Twelve Monkeys (1995)\n",
      "Top-rated movie for User 159: Donnie Brasco (1997)\n",
      "Top-rated movie for User 160: As Good As It Gets (1997)\n",
      "Top-rated movie for User 161: People vs. Larry Flynt, The (1996)\n",
      "Top-rated movie for User 162: As Good As It Gets (1997)\n",
      "Top-rated movie for User 163: Mission: Impossible (1996)\n",
      "Top-rated movie for User 164: Mr. Holland's Opus (1995)\n",
      "Top-rated movie for User 165: Titanic (1997)\n",
      "Top-rated movie for User 166: Babe (1995)\n",
      "Top-rated movie for User 168: Star Wars (1977)\n",
      "Top-rated movie for User 169: Air Force One (1997)\n",
      "Top-rated movie for User 170: Good Will Hunting (1997)\n",
      "Top-rated movie for User 171: Lone Star (1996)\n",
      "Top-rated movie for User 172: Lost Highway (1997)\n",
      "Top-rated movie for User 173: Somewhere in Time (1980)\n",
      "Top-rated movie for User 174: Seven (Se7en) (1995)\n",
      "Top-rated movie for User 175: Twelve Monkeys (1995)\n",
      "Top-rated movie for User 176: Godfather, The (1972)\n",
      "Top-rated movie for User 177: Philadelphia (1993)\n",
      "Top-rated movie for User 178: Lost in Space (1998)\n",
      "Top-rated movie for User 179: Star Trek: Generations (1994)\n",
      "Top-rated movie for User 180: Jerry Maguire (1996)\n",
      "Top-rated movie for User 181: Star Wars (1977)\n",
      "Top-rated movie for User 182: Sabrina (1995)\n",
      "Top-rated movie for User 183: Emma (1996)\n",
      "Top-rated movie for User 184: Annie Hall (1977)\n",
      "Top-rated movie for User 185: Client, The (1994)\n",
      "Top-rated movie for User 186: Babe (1995)\n",
      "Top-rated movie for User 187: Primal Fear (1996)\n",
      "Top-rated movie for User 188: Get Shorty (1995)\n",
      "Top-rated movie for User 189: Courage Under Fire (1996)\n",
      "Top-rated movie for User 190: Apt Pupil (1998)\n",
      "Top-rated movie for User 191: Fargo (1996)\n",
      "Top-rated movie for User 192: Roman Holiday (1953)\n",
      "Top-rated movie for User 193: Princess Bride, The (1987)\n",
      "Top-rated movie for User 194: Ed Wood (1994)\n",
      "Top-rated movie for User 195: Fish Called Wanda, A (1988)\n",
      "Top-rated movie for User 196: Good, The Bad and The Ugly, The (1966)\n",
      "Top-rated movie for User 197: Hudsucker Proxy, The (1994)\n",
      "Top-rated movie for User 198: Dead Man Walking (1995)\n",
      "Top-rated movie for User 200: Psycho (1960)\n",
      "Top-rated movie for User 201: Terminator 2: Judgment Day (1991)\n",
      "Top-rated movie for User 202: Swingers (1996)\n",
      "Top-rated movie for User 203: Dead Man Walking (1995)\n",
      "Top-rated movie for User 204: Kolya (1996)\n",
      "Top-rated movie for User 205: Good Will Hunting (1997)\n",
      "Top-rated movie for User 206: Casablanca (1942)\n",
      "Top-rated movie for User 207: Sting, The (1973)\n",
      "Top-rated movie for User 210: Bridge on the River Kwai, The (1957)\n",
      "Top-rated movie for User 211: Schindler's List (1993)\n",
      "Top-rated movie for User 212: Pink Floyd - The Wall (1982)\n",
      "Top-rated movie for User 213: Shallow Grave (1994)\n",
      "Top-rated movie for User 214: Little Princess, A (1995)\n",
      "Top-rated movie for User 215: Field of Dreams (1989)\n",
      "Top-rated movie for User 216: Conan the Barbarian (1981)\n",
      "Top-rated movie for User 217: Shallow Grave (1994)\n",
      "Top-rated movie for User 218: Sling Blade (1996)\n",
      "Top-rated movie for User 219: Full Monty, The (1997)\n",
      "Top-rated movie for User 220: Pulp Fiction (1994)\n",
      "Top-rated movie for User 221: Seven (Se7en) (1995)\n",
      "Top-rated movie for User 222: Broken Arrow (1996)\n",
      "Top-rated movie for User 223: Dances with Wolves (1990)\n",
      "Top-rated movie for User 224: Silence of the Lambs, The (1991)\n",
      "Top-rated movie for User 225: Usual Suspects, The (1995)\n",
      "Top-rated movie for User 226: Mighty Aphrodite (1995)\n",
      "Top-rated movie for User 227: English Patient, The (1996)\n",
      "Top-rated movie for User 228: Wings of the Dove, The (1997)\n",
      "Top-rated movie for User 230: Courage Under Fire (1996)\n",
      "Top-rated movie for User 231: Walkabout (1971)\n",
      "Top-rated movie for User 232: Air Bud (1997)\n",
      "Top-rated movie for User 233: 39 Steps, The (1935)\n",
      "Top-rated movie for User 234: Clockwork Orange, A (1971)\n",
      "Top-rated movie for User 235: Dead Man Walking (1995)\n",
      "Top-rated movie for User 236: Shawshank Redemption, The (1994)\n",
      "Top-rated movie for User 237: English Patient, The (1996)\n",
      "Top-rated movie for User 238: Usual Suspects, The (1995)\n",
      "Top-rated movie for User 239: Kolya (1996)\n",
      "Top-rated movie for User 240: English Patient, The (1996)\n",
      "Top-rated movie for User 241: Chasing Amy (1997)\n",
      "Top-rated movie for User 242: Secrets & Lies (1996)\n",
      "Top-rated movie for User 243: Saint of Fort Washington, The (1993)\n",
      "Top-rated movie for User 244: Homeward Bound II: Lost in San Francisco (1996)\n",
      "Top-rated movie for User 245: Princess Bride, The (1987)\n",
      "Top-rated movie for User 246: Shawshank Redemption, The (1994)\n",
      "Top-rated movie for User 247: Reservoir Dogs (1992)\n",
      "Top-rated movie for User 248: Contact (1997)\n",
      "Top-rated movie for User 249: Grace of My Heart (1996)\n",
      "Top-rated movie for User 250: Fugitive, The (1993)\n",
      "Top-rated movie for User 253: Titanic (1997)\n",
      "Top-rated movie for User 254: Nightmare on Elm Street, A (1984)\n",
      "Top-rated movie for User 256: Postino, Il (1994)\n",
      "Top-rated movie for User 257: English Patient, The (1996)\n",
      "Top-rated movie for User 258: Doors, The (1991)\n",
      "Top-rated movie for User 259: Gattaca (1997)\n",
      "Top-rated movie for User 260: Phenomenon (1996)\n",
      "Top-rated movie for User 261: Romy and Michele's High School Reunion (1997)\n",
      "Top-rated movie for User 263: Twelve Monkeys (1995)\n",
      "Top-rated movie for User 265: Fargo (1996)\n",
      "Top-rated movie for User 266: This Is Spinal Tap (1984)\n",
      "Top-rated movie for User 267: English Patient, The (1996)\n",
      "Top-rated movie for User 268: My Own Private Idaho (1991)\n",
      "Top-rated movie for User 269: Copycat (1995)\n",
      "Top-rated movie for User 270: African Queen, The (1951)\n",
      "Top-rated movie for User 271: Taxi Driver (1976)\n",
      "Top-rated movie for User 272: Chasing Amy (1997)\n",
      "Top-rated movie for User 273: Dead Man Walking (1995)\n",
      "Top-rated movie for User 277: English Patient, The (1996)\n",
      "Top-rated movie for User 278: Twelve Monkeys (1995)\n",
      "Top-rated movie for User 279: Tales From the Crypt Presents: Demon Knight (1995)\n",
      "Top-rated movie for User 280: Saint, The (1997)\n",
      "Top-rated movie for User 281: In the Company of Men (1997)\n",
      "Top-rated movie for User 282: Pulp Fiction (1994)\n",
      "Top-rated movie for User 283: Apt Pupil (1998)\n",
      "Top-rated movie for User 284: Nikita (La Femme Nikita) (1990)\n",
      "Top-rated movie for User 285: Before Sunrise (1995)\n",
      "Top-rated movie for User 286: Dead Man Walking (1995)\n",
      "Top-rated movie for User 287: Braveheart (1995)\n",
      "Top-rated movie for User 288: Rock, The (1996)\n",
      "Top-rated movie for User 291: Reservoir Dogs (1992)\n",
      "Top-rated movie for User 292: Jaws (1975)\n",
      "Top-rated movie for User 294: Fried Green Tomatoes (1991)\n",
      "Top-rated movie for User 296: Face/Off (1997)\n",
      "Top-rated movie for User 298: Dr. Strangelove or: How I Learned to Stop Worrying and Love the Bomb (1963)\n",
      "Top-rated movie for User 299: Money Talks (1997)\n",
      "Top-rated movie for User 300: Mystery Science Theater 3000: The Movie (1996)\n",
      "Top-rated movie for User 301: Starship Troopers (1997)\n",
      "Top-rated movie for User 303: Air Force One (1997)\n",
      "Top-rated movie for User 305: Antonia's Line (1995)\n",
      "Top-rated movie for User 307: Being There (1979)\n",
      "Top-rated movie for User 308: Contact (1997)\n",
      "Top-rated movie for User 309: Star Wars (1977)\n",
      "Top-rated movie for User 310: Good, The Bad and The Ugly, The (1966)\n",
      "Top-rated movie for User 312: To Kill a Mockingbird (1962)\n",
      "Top-rated movie for User 314: English Patient, The (1996)\n",
      "Top-rated movie for User 315: Glory (1989)\n",
      "Top-rated movie for User 316: Saint, The (1997)\n",
      "Top-rated movie for User 317: Schindler's List (1993)\n",
      "Top-rated movie for User 318: Chasing Amy (1997)\n",
      "Top-rated movie for User 319: From Dusk Till Dawn (1996)\n",
      "Top-rated movie for User 320: Three Colors: White (1994)\n",
      "Top-rated movie for User 321: L.A. Confidential (1997)\n",
      "Top-rated movie for User 322: Seven (Se7en) (1995)\n",
      "Top-rated movie for User 324: Close Shave, A (1995)\n",
      "Top-rated movie for User 325: Harold and Maude (1971)\n",
      "Top-rated movie for User 326: Dazed and Confused (1993)\n",
      "Top-rated movie for User 327: Last of the Mohicans, The (1992)\n",
      "Top-rated movie for User 328: L.A. Confidential (1997)\n",
      "Top-rated movie for User 330: Fly Away Home (1996)\n",
      "Top-rated movie for User 331: Game, The (1997)\n",
      "Top-rated movie for User 332: Raiders of the Lost Ark (1981)\n",
      "Top-rated movie for User 333: My Life as a Dog (Mitt liv som hund) (1985)\n",
      "Top-rated movie for User 334: Air Force One (1997)\n",
      "Top-rated movie for User 335: Primal Fear (1996)\n",
      "Top-rated movie for User 336: Mr. Holland's Opus (1995)\n",
      "Top-rated movie for User 337: Adventures of Priscilla, Queen of the Desert, The (1994)\n",
      "Top-rated movie for User 338: Full Monty, The (1997)\n",
      "Top-rated movie for User 339: Mr. Holland's Opus (1995)\n",
      "Top-rated movie for User 340: Hoodlum (1997)\n",
      "Top-rated movie for User 341: Breakfast at Tiffany's (1961)\n",
      "Top-rated movie for User 343: When We Were Kings (1996)\n",
      "Top-rated movie for User 344: Swingers (1996)\n",
      "Top-rated movie for User 345: GoldenEye (1995)\n",
      "Top-rated movie for User 346: Austin Powers: International Man of Mystery (1997)\n",
      "Top-rated movie for User 347: Truth About Cats & Dogs, The (1996)\n",
      "Top-rated movie for User 348: Richard III (1995)\n",
      "Top-rated movie for User 349: Taxi Driver (1976)\n",
      "Top-rated movie for User 350: Cop Land (1997)\n",
      "Top-rated movie for User 351: Empire Strikes Back, The (1980)\n",
      "Top-rated movie for User 352: Contact (1997)\n",
      "Top-rated movie for User 353: Crucible, The (1996)\n",
      "Top-rated movie for User 354: English Patient, The (1996)\n",
      "Top-rated movie for User 355: Contact (1997)\n",
      "Top-rated movie for User 357: Babe (1995)\n",
      "Top-rated movie for User 358: Twelve Monkeys (1995)\n",
      "Top-rated movie for User 359: English Patient, The (1996)\n",
      "Top-rated movie for User 360: Taxi Driver (1976)\n",
      "Top-rated movie for User 361: Kiss the Girls (1997)\n",
      "Top-rated movie for User 362: Star Trek: First Contact (1996)\n",
      "Top-rated movie for User 363: English Patient, The (1996)\n",
      "Top-rated movie for User 364: Beautiful Thing (1996)\n",
      "Top-rated movie for User 365: From Dusk Till Dawn (1996)\n",
      "Top-rated movie for User 366: Lost Highway (1997)\n",
      "Top-rated movie for User 367: Bram Stoker's Dracula (1992)\n",
      "Top-rated movie for User 368: Star Wars (1977)\n",
      "Top-rated movie for User 369: Rear Window (1954)\n",
      "Top-rated movie for User 370: Back to the Future (1985)\n",
      "Top-rated movie for User 371: Cape Fear (1991)\n",
      "Top-rated movie for User 372: George of the Jungle (1997)\n",
      "Top-rated movie for User 373: Raging Bull (1980)\n",
      "Top-rated movie for User 374: Alien (1979)\n",
      "Top-rated movie for User 375: Nikita (La Femme Nikita) (1990)\n",
      "Top-rated movie for User 376: Good Will Hunting (1997)\n",
      "Top-rated movie for User 377: Dances with Wolves (1990)\n",
      "Top-rated movie for User 378: In the Name of the Father (1993)\n",
      "Top-rated movie for User 379: Blade Runner (1982)\n",
      "Top-rated movie for User 381: Mars Attacks! (1996)\n",
      "Top-rated movie for User 382: Apt Pupil (1998)\n",
      "Top-rated movie for User 383: Evita (1996)\n",
      "Top-rated movie for User 384: Wings of Desire (1987)\n",
      "Top-rated movie for User 385: Last Man Standing (1996)\n",
      "Top-rated movie for User 386: This Is Spinal Tap (1984)\n",
      "Top-rated movie for User 388: Beauty and the Beast (1991)\n",
      "Top-rated movie for User 390: Blues Brothers, The (1980)\n",
      "Top-rated movie for User 391: 39 Steps, The (1935)\n",
      "Top-rated movie for User 392: As Good As It Gets (1997)\n",
      "Top-rated movie for User 393: Blues Brothers, The (1980)\n",
      "Top-rated movie for User 395: Dragonheart (1996)\n",
      "Top-rated movie for User 396: Third Man, The (1949)\n",
      "Top-rated movie for User 398: Mr. Holland's Opus (1995)\n",
      "Top-rated movie for User 399: Contact (1997)\n",
      "Top-rated movie for User 400: Clear and Present Danger (1994)\n",
      "Top-rated movie for User 402: Saint, The (1997)\n",
      "Top-rated movie for User 403: Braveheart (1995)\n",
      "Top-rated movie for User 404: Ace Ventura: Pet Detective (1994)\n",
      "Top-rated movie for User 405: Psycho (1960)\n",
      "Top-rated movie for User 406: It's a Wonderful Life (1946)\n",
      "Top-rated movie for User 407: Gattaca (1997)\n",
      "Top-rated movie for User 408: Dr. Strangelove or: How I Learned to Stop Worrying and Love the Bomb (1963)\n",
      "Top-rated movie for User 409: Titanic (1997)\n",
      "Top-rated movie for User 410: Return of the Jedi (1983)\n",
      "Top-rated movie for User 411: Leaving Las Vegas (1995)\n",
      "Top-rated movie for User 412: Sense and Sensibility (1995)\n",
      "Top-rated movie for User 413: Seven (Se7en) (1995)\n",
      "Top-rated movie for User 414: Pulp Fiction (1994)\n",
      "Top-rated movie for User 416: True Lies (1994)\n",
      "Top-rated movie for User 417: Contact (1997)\n",
      "Top-rated movie for User 418: Sense and Sensibility (1995)\n",
      "Top-rated movie for User 419: Postino, Il (1994)\n",
      "Top-rated movie for User 420: Raiders of the Lost Ark (1981)\n",
      "Top-rated movie for User 421: Kingpin (1996)\n",
      "Top-rated movie for User 422: Dead Man Walking (1995)\n",
      "Top-rated movie for User 423: Anne Frank Remembered (1995)\n",
      "Top-rated movie for User 424: One Flew Over the Cuckoo's Nest (1975)\n",
      "Top-rated movie for User 425: East of Eden (1955)\n",
      "Top-rated movie for User 426: Devil's Own, The (1997)\n",
      "Top-rated movie for User 427: Excess Baggage (1997)\n",
      "Top-rated movie for User 428: Bridge on the River Kwai, The (1957)\n",
      "Top-rated movie for User 429: Breaking the Waves (1996)\n",
      "Top-rated movie for User 430: Liar Liar (1997)\n",
      "Top-rated movie for User 431: Men in Black (1997)\n",
      "Top-rated movie for User 432: Usual Suspects, The (1995)\n",
      "Top-rated movie for User 433: Family Thing, A (1996)\n",
      "Top-rated movie for User 435: Seven (Se7en) (1995)\n",
      "Top-rated movie for User 436: Muriel's Wedding (1994)\n",
      "Top-rated movie for User 437: Michael (1996)\n",
      "Top-rated movie for User 438: Secrets & Lies (1996)\n",
      "Top-rated movie for User 439: Priest (1994)\n",
      "Top-rated movie for User 441: Kicking and Screaming (1995)\n",
      "Top-rated movie for User 442: Usual Suspects, The (1995)\n",
      "Top-rated movie for User 443: Dead Man Walking (1995)\n",
      "Top-rated movie for User 444: Boogie Nights (1997)\n",
      "Top-rated movie for User 445: Rosewood (1997)\n",
      "Top-rated movie for User 446: Apocalypse Now (1979)\n",
      "Top-rated movie for User 447: Everyone Says I Love You (1996)\n",
      "Top-rated movie for User 448: Withnail and I (1987)\n",
      "Top-rated movie for User 449: Love Bug, The (1969)\n",
      "Top-rated movie for User 450: Game, The (1997)\n",
      "Top-rated movie for User 451: Twelve Monkeys (1995)\n",
      "Top-rated movie for User 452: Return of the Jedi (1983)\n",
      "Top-rated movie for User 453: Titanic (1997)\n",
      "Top-rated movie for User 454: Amadeus (1984)\n",
      "Top-rated movie for User 455: Trainspotting (1996)\n",
      "Top-rated movie for User 456: Piano, The (1993)\n",
      "Top-rated movie for User 457: Big Night (1996)\n",
      "Top-rated movie for User 458: Men in Black (1997)\n",
      "Top-rated movie for User 459: Big Night (1996)\n",
      "Top-rated movie for User 460: Dead Man Walking (1995)\n",
      "Top-rated movie for User 461: Seven (Se7en) (1995)\n",
      "Top-rated movie for User 462: In & Out (1997)\n",
      "Top-rated movie for User 463: Usual Suspects, The (1995)\n",
      "Top-rated movie for User 464: Contact (1997)\n",
      "Top-rated movie for User 465: Hurricane Streets (1998)\n",
      "Top-rated movie for User 466: Chasing Amy (1997)\n",
      "Top-rated movie for User 468: Richard III (1995)\n",
      "Top-rated movie for User 469: Courage Under Fire (1996)\n",
      "Top-rated movie for User 470: Mrs. Doubtfire (1993)\n",
      "Top-rated movie for User 472: Heat (1995)\n",
      "Top-rated movie for User 473: Get Shorty (1995)\n",
      "Top-rated movie for User 474: Star Wars (1977)\n",
      "Top-rated movie for User 475: Young Frankenstein (1974)\n",
      "Top-rated movie for User 476: Associate, The (1996)\n",
      "Top-rated movie for User 477: Jerry Maguire (1996)\n",
      "Top-rated movie for User 479: Babe (1995)\n",
      "Top-rated movie for User 480: Emma (1996)\n",
      "Top-rated movie for User 481: Titanic (1997)\n",
      "Top-rated movie for User 482: Star Wars (1977)\n",
      "Top-rated movie for User 484: Kolya (1996)\n",
      "Top-rated movie for User 485: L.A. Confidential (1997)\n",
      "Top-rated movie for User 487: Henry V (1989)\n",
      "Top-rated movie for User 488: Prophecy II, The (1998)\n",
      "Top-rated movie for User 489: Star Wars (1977)\n",
      "Top-rated movie for User 490: Close Shave, A (1995)\n",
      "Top-rated movie for User 491: Killing Fields, The (1984)\n",
      "Top-rated movie for User 492: Men in Black (1997)\n",
      "Top-rated movie for User 493: Raising Arizona (1987)\n",
      "Top-rated movie for User 494: Black Beauty (1994)\n",
      "Top-rated movie for User 495: Mallrats (1995)\n",
      "Top-rated movie for User 496: Monty Python and the Holy Grail (1974)\n",
      "Top-rated movie for User 497: Brazil (1985)\n",
      "Top-rated movie for User 498: Titanic (1997)\n",
      "Top-rated movie for User 499: Trainspotting (1996)\n",
      "Top-rated movie for User 500: Swingers (1996)\n",
      "Top-rated movie for User 501: I Know What You Did Last Summer (1997)\n",
      "Top-rated movie for User 503: Bastard Out of Carolina (1996)\n",
      "Top-rated movie for User 504: Wizard of Oz, The (1939)\n",
      "Top-rated movie for User 505: Somewhere in Time (1980)\n",
      "Top-rated movie for User 506: Star Wars (1977)\n",
      "Top-rated movie for User 508: Star Wars (1977)\n",
      "Top-rated movie for User 509: Air Force One (1997)\n",
      "Top-rated movie for User 510: Starship Troopers (1997)\n",
      "Top-rated movie for User 511: Star Wars (1977)\n",
      "Top-rated movie for User 512: Star Wars (1977)\n",
      "Top-rated movie for User 514: Air Force One (1997)\n",
      "Top-rated movie for User 515: Star Wars (1977)\n",
      "Top-rated movie for User 516: Air Force One (1997)\n",
      "Top-rated movie for User 517: Sleepers (1996)\n",
      "Top-rated movie for User 518: Prophecy II, The (1998)\n",
      "Top-rated movie for User 519: Kolya (1996)\n",
      "Top-rated movie for User 520: Sneakers (1992)\n",
      "Top-rated movie for User 521: Raging Bull (1980)\n",
      "Top-rated movie for User 523: Annie Hall (1977)\n",
      "Top-rated movie for User 524: Birdcage, The (1996)\n",
      "Top-rated movie for User 526: Jaws (1975)\n",
      "Top-rated movie for User 527: Crimson Tide (1995)\n",
      "Top-rated movie for User 528: Devil's Advocate, The (1997)\n",
      "Top-rated movie for User 529: Sense and Sensibility (1995)\n",
      "Top-rated movie for User 530: Seven Years in Tibet (1997)\n",
      "Top-rated movie for User 532: Star Trek V: The Final Frontier (1989)\n",
      "Top-rated movie for User 534: Adventures of Priscilla, Queen of the Desert, The (1994)\n",
      "Top-rated movie for User 536: Thin Blue Line, The (1988)\n",
      "Top-rated movie for User 537: Forrest Gump (1994)\n",
      "Top-rated movie for User 538: Antonia's Line (1995)\n",
      "Top-rated movie for User 539: Dead Man Walking (1995)\n",
      "Top-rated movie for User 540: Men in Black (1997)\n",
      "Top-rated movie for User 541: Raging Bull (1980)\n",
      "Top-rated movie for User 542: 2001: A Space Odyssey (1968)\n",
      "Top-rated movie for User 543: Titanic (1997)\n",
      "Top-rated movie for User 545: Copycat (1995)\n",
      "Top-rated movie for User 546: As Good As It Gets (1997)\n",
      "Top-rated movie for User 547: Red Rock West (1992)\n",
      "Top-rated movie for User 549: Scream (1996)\n",
      "Top-rated movie for User 550: Good, The Bad and The Ugly, The (1966)\n",
      "Top-rated movie for User 551: Spitfire Grill, The (1996)\n",
      "Top-rated movie for User 552: Crying Game, The (1992)\n",
      "Top-rated movie for User 553: Star Trek IV: The Voyage Home (1986)\n",
      "Top-rated movie for User 554: Lost World: Jurassic Park, The (1997)\n",
      "Top-rated movie for User 555: Usual Suspects, The (1995)\n",
      "Top-rated movie for User 556: Babe (1995)\n",
      "Top-rated movie for User 557: Secrets & Lies (1996)\n",
      "Top-rated movie for User 558: Patton (1970)\n",
      "Top-rated movie for User 559: Austin Powers: International Man of Mystery (1997)\n",
      "Top-rated movie for User 560: Heat (1995)\n",
      "Top-rated movie for User 561: Psycho (1960)\n",
      "Top-rated movie for User 562: Star Wars (1977)\n",
      "Top-rated movie for User 563: Star Wars (1977)\n",
      "Top-rated movie for User 564: Richard III (1995)\n",
      "Top-rated movie for User 565: GoldenEye (1995)\n",
      "Top-rated movie for User 566: Bringing Up Baby (1938)\n",
      "Top-rated movie for User 567: Sunset Blvd. (1950)\n",
      "Top-rated movie for User 568: Contact (1997)\n",
      "Top-rated movie for User 569: Ice Storm, The (1997)\n",
      "Top-rated movie for User 570: Amadeus (1984)\n",
      "Top-rated movie for User 571: Dead Man Walking (1995)\n",
      "Top-rated movie for User 572: Streetcar Named Desire, A (1951)\n",
      "Top-rated movie for User 573: Fargo (1996)\n",
      "Top-rated movie for User 574: Terminator 2: Judgment Day (1991)\n",
      "Top-rated movie for User 575: Annie Hall (1977)\n",
      "Top-rated movie for User 577: Titanic (1997)\n",
      "Top-rated movie for User 578: Strictly Ballroom (1992)\n",
      "Top-rated movie for User 579: Alien: Resurrection (1997)\n",
      "Top-rated movie for User 580: Cement Garden, The (1993)\n",
      "Top-rated movie for User 581: Twelve Monkeys (1995)\n",
      "Top-rated movie for User 582: Twelve Monkeys (1995)\n",
      "Top-rated movie for User 583: Titanic (1997)\n",
      "Top-rated movie for User 584: Magnificent Seven, The (1954)\n",
      "Top-rated movie for User 585: Four Rooms (1995)\n",
      "Top-rated movie for User 586: Titanic (1997)\n",
      "Top-rated movie for User 587: Clueless (1995)\n",
      "Top-rated movie for User 588: Conspiracy Theory (1997)\n",
      "Top-rated movie for User 589: Shanghai Triad (Yao a yao yao dao waipo qiao) (1995)\n",
      "Top-rated movie for User 590: Red Firecracker, Green Firecracker (1994)\n",
      "Top-rated movie for User 591: City of Lost Children, The (1995)\n",
      "Top-rated movie for User 592: Top Gun (1986)\n",
      "Top-rated movie for User 593: Boot, Das (1981)\n",
      "Top-rated movie for User 594: Return of the Jedi (1983)\n",
      "Top-rated movie for User 595: Conspiracy Theory (1997)\n",
      "Top-rated movie for User 596: Emma (1996)\n",
      "Top-rated movie for User 597: Braveheart (1995)\n",
      "Top-rated movie for User 598: Time to Kill, A (1996)\n",
      "Top-rated movie for User 599: Terminator 2: Judgment Day (1991)\n",
      "Top-rated movie for User 600: Contact (1997)\n",
      "Top-rated movie for User 601: Star Wars (1977)\n",
      "Top-rated movie for User 602: Twelve Monkeys (1995)\n",
      "Top-rated movie for User 603: Hoop Dreams (1994)\n",
      "Top-rated movie for User 604: 2001: A Space Odyssey (1968)\n",
      "Top-rated movie for User 606: His Girl Friday (1940)\n",
      "Top-rated movie for User 607: Rebecca (1940)\n",
      "Top-rated movie for User 608: Fly Away Home (1996)\n",
      "Top-rated movie for User 609: Silence of the Lambs, The (1991)\n",
      "Top-rated movie for User 610: Boogie Nights (1997)\n",
      "Top-rated movie for User 611: Little Princess, A (1995)\n",
      "Top-rated movie for User 612: Sting, The (1973)\n",
      "Top-rated movie for User 614: Godfather: Part II, The (1974)\n",
      "Top-rated movie for User 615: Titanic (1997)\n",
      "Top-rated movie for User 616: Shining, The (1980)\n",
      "Top-rated movie for User 617: E.T. the Extra-Terrestrial (1982)\n",
      "Top-rated movie for User 618: Face/Off (1997)\n",
      "Top-rated movie for User 620: Interview with the Vampire (1994)\n",
      "Top-rated movie for User 621: Princess Bride, The (1987)\n",
      "Top-rated movie for User 622: Back to the Future (1985)\n",
      "Top-rated movie for User 623: English Patient, The (1996)\n",
      "Top-rated movie for User 624: Graduate, The (1967)\n",
      "Top-rated movie for User 625: Raise the Red Lantern (1991)\n",
      "Top-rated movie for User 626: In the Name of the Father (1993)\n",
      "Top-rated movie for User 627: G.I. Jane (1997)\n",
      "Top-rated movie for User 628: Some Kind of Wonderful (1987)\n",
      "Top-rated movie for User 629: Good Will Hunting (1997)\n",
      "Top-rated movie for User 630: Good Will Hunting (1997)\n",
      "Top-rated movie for User 631: Pinocchio (1940)\n",
      "Top-rated movie for User 632: Fugitive, The (1993)\n",
      "Top-rated movie for User 633: Jerry Maguire (1996)\n",
      "Top-rated movie for User 634: Chasing Amy (1997)\n",
      "Top-rated movie for User 635: Celluloid Closet, The (1995)\n",
      "Top-rated movie for User 636: Willy Wonka and the Chocolate Factory (1971)\n",
      "Top-rated movie for User 637: Star Trek IV: The Voyage Home (1986)\n",
      "Top-rated movie for User 638: 12 Angry Men (1957)\n",
      "Top-rated movie for User 639: L.A. Confidential (1997)\n",
      "Top-rated movie for User 640: Taxi Driver (1976)\n",
      "Top-rated movie for User 643: Air Force One (1997)\n",
      "Top-rated movie for User 644: Wings of Desire (1987)\n",
      "Top-rated movie for User 645: Titanic (1997)\n",
      "Top-rated movie for User 646: Braveheart (1995)\n",
      "Top-rated movie for User 649: Princess Bride, The (1987)\n",
      "Top-rated movie for User 650: Kolya (1996)\n",
      "Top-rated movie for User 651: Little Women (1994)\n",
      "Top-rated movie for User 652: Shine (1996)\n",
      "Top-rated movie for User 653: Hunt for Red October, The (1990)\n",
      "Top-rated movie for User 654: Ma vie en rose (My Life in Pink) (1997)\n",
      "Top-rated movie for User 655: Sweet Hereafter, The (1997)\n",
      "Top-rated movie for User 656: Full Monty, The (1997)\n",
      "Top-rated movie for User 657: GoodFellas (1990)\n",
      "Top-rated movie for User 658: Graduate, The (1967)\n",
      "Top-rated movie for User 659: Willy Wonka and the Chocolate Factory (1971)\n",
      "Top-rated movie for User 661: Shanghai Triad (Yao a yao yao dao waipo qiao) (1995)\n",
      "Top-rated movie for User 662: Marvin's Room (1996)\n",
      "Top-rated movie for User 663: Godfather, The (1972)\n",
      "Top-rated movie for User 664: To Kill a Mockingbird (1962)\n",
      "Top-rated movie for User 665: Get Shorty (1995)\n",
      "Top-rated movie for User 666: Dead Man Walking (1995)\n",
      "Top-rated movie for User 667: L.A. Confidential (1997)\n",
      "Top-rated movie for User 669: North by Northwest (1959)\n",
      "Top-rated movie for User 670: Indiana Jones and the Last Crusade (1989)\n",
      "Top-rated movie for User 671: Boot, Das (1981)\n",
      "Top-rated movie for User 672: Boogie Nights (1997)\n",
      "Top-rated movie for User 673: Michael (1996)\n",
      "Top-rated movie for User 674: Entertaining Angels: The Dorothy Day Story (1996)\n",
      "Top-rated movie for User 676: Devil's Advocate, The (1997)\n",
      "Top-rated movie for User 678: Tomorrow Never Dies (1997)\n",
      "Top-rated movie for User 679: Swingers (1996)\n",
      "Top-rated movie for User 680: Swept from the Sea (1997)\n",
      "Top-rated movie for User 681: Godfather: Part II, The (1974)\n",
      "Top-rated movie for User 682: Rebecca (1940)\n",
      "Top-rated movie for User 683: Empire Strikes Back, The (1980)\n",
      "Top-rated movie for User 684: Full Monty, The (1997)\n",
      "Top-rated movie for User 685: Graduate, The (1967)\n",
      "Top-rated movie for User 686: Chasing Amy (1997)\n",
      "Top-rated movie for User 687: George of the Jungle (1997)\n",
      "Top-rated movie for User 688: Contact (1997)\n",
      "Top-rated movie for User 689: Silence of the Lambs, The (1991)\n",
      "Top-rated movie for User 691: Kingpin (1996)\n",
      "Top-rated movie for User 692: Dances with Wolves (1990)\n",
      "Top-rated movie for User 693: Dead Man Walking (1995)\n",
      "Top-rated movie for User 694: Kolya (1996)\n",
      "Top-rated movie for User 695: Dead Man Walking (1995)\n",
      "Top-rated movie for User 697: Indiana Jones and the Last Crusade (1989)\n",
      "Top-rated movie for User 698: Contact (1997)\n",
      "Top-rated movie for User 699: Return of the Jedi (1983)\n",
      "Top-rated movie for User 700: Full Monty, The (1997)\n",
      "Top-rated movie for User 701: Star Trek: First Contact (1996)\n",
      "Top-rated movie for User 702: Return of the Jedi (1983)\n",
      "Top-rated movie for User 703: It's a Wonderful Life (1946)\n",
      "Top-rated movie for User 705: Star Wars (1977)\n",
      "Top-rated movie for User 706: Some Mother's Son (1996)\n",
      "Top-rated movie for User 708: Time to Kill, A (1996)\n",
      "Top-rated movie for User 709: Vertigo (1958)\n",
      "Top-rated movie for User 710: Babe (1995)\n",
      "Top-rated movie for User 711: Princess Bride, The (1987)\n",
      "Top-rated movie for User 712: Apostle, The (1997)\n",
      "Top-rated movie for User 713: Air Force One (1997)\n",
      "Top-rated movie for User 716: L.A. Confidential (1997)\n",
      "Top-rated movie for User 717: Mr. Holland's Opus (1995)\n",
      "Top-rated movie for User 718: Sling Blade (1996)\n",
      "Top-rated movie for User 719: Welcome To Sarajevo (1997)\n",
      "Top-rated movie for User 721: Game, The (1997)\n",
      "Top-rated movie for User 722: Saint, The (1997)\n",
      "Top-rated movie for User 723: Titanic (1997)\n",
      "Top-rated movie for User 724: Game, The (1997)\n",
      "Top-rated movie for User 725: Don't Be a Menace to South Central While Drinking Your Juice in the Hood (1996)\n",
      "Top-rated movie for User 726: Monty Python and the Holy Grail (1974)\n",
      "Top-rated movie for User 727: Fargo (1996)\n",
      "Top-rated movie for User 728: Wedding Singer, The (1998)\n",
      "Top-rated movie for User 729: Private Parts (1997)\n",
      "Top-rated movie for User 730: Gold Diggers: The Secret of Bear Mountain (1995)\n",
      "Top-rated movie for User 731: Jungle2Jungle (1997)\n",
      "Top-rated movie for User 732: Bottle Rocket (1996)\n",
      "Top-rated movie for User 733: Sound of Music, The (1965)\n",
      "Top-rated movie for User 734: English Patient, The (1996)\n",
      "Top-rated movie for User 735: Gabbeh (1996)\n",
      "Top-rated movie for User 736: Reservoir Dogs (1992)\n",
      "Top-rated movie for User 738: Braveheart (1995)\n",
      "Top-rated movie for User 739: L.A. Confidential (1997)\n",
      "Top-rated movie for User 740: Empire Strikes Back, The (1980)\n",
      "Top-rated movie for User 741: Postino, Il (1994)\n",
      "Top-rated movie for User 742: Dead Man Walking (1995)\n",
      "Top-rated movie for User 743: L.A. Confidential (1997)\n",
      "Top-rated movie for User 744: Phenomenon (1996)\n",
      "Top-rated movie for User 745: Aliens (1986)\n",
      "Top-rated movie for User 747: Gandhi (1982)\n",
      "Top-rated movie for User 748: Miracle on 34th Street (1994)\n",
      "Top-rated movie for User 749: Ice Storm, The (1997)\n",
      "Top-rated movie for User 750: Indiana Jones and the Last Crusade (1989)\n",
      "Top-rated movie for User 751: Big Lebowski, The (1998)\n",
      "Top-rated movie for User 752: Full Monty, The (1997)\n",
      "Top-rated movie for User 753: Leaving Las Vegas (1995)\n",
      "Top-rated movie for User 754: Full Monty, The (1997)\n",
      "Top-rated movie for User 755: Rear Window (1954)\n",
      "Top-rated movie for User 756: Unforgiven (1992)\n",
      "Top-rated movie for User 757: Spellbound (1945)\n",
      "Top-rated movie for User 759: Contact (1997)\n",
      "Top-rated movie for User 760: Ghost and the Darkness, The (1996)\n",
      "Top-rated movie for User 761: Princess Bride, The (1987)\n",
      "Top-rated movie for User 762: Star Trek: First Contact (1996)\n",
      "Top-rated movie for User 763: Beauty and the Beast (1991)\n",
      "Top-rated movie for User 764: Stealing Beauty (1996)\n",
      "Top-rated movie for User 765: Babe (1995)\n",
      "Top-rated movie for User 768: Truth About Cats & Dogs, The (1996)\n",
      "Top-rated movie for User 771: Devil's Own, The (1997)\n",
      "Top-rated movie for User 772: Grand Day Out, A (1992)\n",
      "Top-rated movie for User 773: Star Trek VI: The Undiscovered Country (1991)\n",
      "Top-rated movie for User 774: Apt Pupil (1998)\n",
      "Top-rated movie for User 775: Great Dictator, The (1940)\n",
      "Top-rated movie for User 776: Monty Python and the Holy Grail (1974)\n",
      "Top-rated movie for User 777: Monty Python and the Holy Grail (1974)\n",
      "Top-rated movie for User 778: Twister (1996)\n",
      "Top-rated movie for User 779: Godfather: Part II, The (1974)\n",
      "Top-rated movie for User 780: Star Wars (1977)\n",
      "Top-rated movie for User 781: Conspiracy Theory (1997)\n",
      "Top-rated movie for User 782: Jackie Brown (1997)\n",
      "Top-rated movie for User 783: Contact (1997)\n",
      "Top-rated movie for User 784: Raiders of the Lost Ark (1981)\n",
      "Top-rated movie for User 785: Gone with the Wind (1939)\n",
      "Top-rated movie for User 786: Amistad (1997)\n",
      "Top-rated movie for User 787: Schindler's List (1993)\n",
      "Top-rated movie for User 788: Star Wars (1977)\n",
      "Top-rated movie for User 789: When Harry Met Sally... (1989)\n",
      "Top-rated movie for User 790: Dead Man Walking (1995)\n",
      "Top-rated movie for User 791: Shiloh (1997)\n",
      "Top-rated movie for User 792: Willy Wonka and the Chocolate Factory (1971)\n",
      "Top-rated movie for User 793: Secrets & Lies (1996)\n",
      "Top-rated movie for User 794: Wrong Trousers, The (1993)\n",
      "Top-rated movie for User 795: Jerry Maguire (1996)\n",
      "Top-rated movie for User 796: Star Wars (1977)\n",
      "Top-rated movie for User 797: First Knight (1995)\n",
      "Top-rated movie for User 798: Princess Bride, The (1987)\n",
      "Top-rated movie for User 799: Sling Blade (1996)\n",
      "Top-rated movie for User 800: Conspiracy Theory (1997)\n",
      "Top-rated movie for User 801: Twelve Monkeys (1995)\n",
      "Top-rated movie for User 802: Kolya (1996)\n",
      "Top-rated movie for User 804: Nico Icon (1995)\n",
      "Top-rated movie for User 805: Raiders of the Lost Ark (1981)\n",
      "Top-rated movie for User 806: American in Paris, An (1951)\n",
      "Top-rated movie for User 807: Titanic (1997)\n",
      "Top-rated movie for User 808: Apt Pupil (1998)\n",
      "Top-rated movie for User 809: Conspiracy Theory (1997)\n",
      "Top-rated movie for User 810: Dante's Peak (1997)\n",
      "Top-rated movie for User 811: Saint, The (1997)\n",
      "Top-rated movie for User 812: Tomorrow Never Dies (1997)\n",
      "Top-rated movie for User 813: Twelve Monkeys (1995)\n",
      "Top-rated movie for User 815: Liar Liar (1997)\n",
      "Top-rated movie for User 816: Heat (1995)\n",
      "Top-rated movie for User 817: Tomorrow Never Dies (1997)\n",
      "Top-rated movie for User 818: Cosi (1996)\n",
      "Top-rated movie for User 819: Scream (1996)\n",
      "Top-rated movie for User 821: Close Shave, A (1995)\n",
      "Top-rated movie for User 822: Citizen Kane (1941)\n",
      "Top-rated movie for User 823: George of the Jungle (1997)\n",
      "Top-rated movie for User 824: Twelve Monkeys (1995)\n",
      "Top-rated movie for User 825: Titanic (1997)\n",
      "Top-rated movie for User 826: Full Monty, The (1997)\n",
      "Top-rated movie for User 827: Three Colors: White (1994)\n",
      "Top-rated movie for User 828: Raging Bull (1980)\n",
      "Top-rated movie for User 829: Silence of the Lambs, The (1991)\n",
      "Top-rated movie for User 830: Twelve Monkeys (1995)\n",
      "Top-rated movie for User 831: Titanic (1997)\n",
      "Top-rated movie for User 832: Alien (1979)\n",
      "Top-rated movie for User 833: Scream (1996)\n",
      "Top-rated movie for User 834: Titanic (1997)\n",
      "Top-rated movie for User 835: Usual Suspects, The (1995)\n",
      "Top-rated movie for User 836: Emma (1996)\n",
      "Top-rated movie for User 838: Secrets & Lies (1996)\n",
      "Top-rated movie for User 839: Fantasia (1940)\n",
      "Top-rated movie for User 840: Contact (1997)\n",
      "Top-rated movie for User 841: Chasing Amy (1997)\n",
      "Top-rated movie for User 842: Alien (1979)\n",
      "Top-rated movie for User 843: Return of the Jedi (1983)\n",
      "Top-rated movie for User 844: Seven Years in Tibet (1997)\n",
      "Top-rated movie for User 845: GoldenEye (1995)\n",
      "Top-rated movie for User 846: Contact (1997)\n",
      "Top-rated movie for User 847: Duck Soup (1933)\n",
      "Top-rated movie for User 848: Mr. Holland's Opus (1995)\n",
      "Top-rated movie for User 849: Babe (1995)\n",
      "Top-rated movie for User 850: Get Shorty (1995)\n",
      "Top-rated movie for User 851: Boot, Das (1981)\n",
      "Top-rated movie for User 852: Soul Food (1997)\n",
      "Top-rated movie for User 853: Donnie Brasco (1997)\n",
      "Top-rated movie for User 854: Like Water For Chocolate (Como agua para chocolate) (1992)\n",
      "Top-rated movie for User 855: Titanic (1997)\n",
      "Top-rated movie for User 856: Trainspotting (1996)\n",
      "Top-rated movie for User 857: Dead Man Walking (1995)\n",
      "Top-rated movie for User 858: Four Rooms (1995)\n",
      "Top-rated movie for User 859: Secrets & Lies (1996)\n",
      "Top-rated movie for User 860: Everyone Says I Love You (1996)\n",
      "Top-rated movie for User 861: Twelve Monkeys (1995)\n",
      "Top-rated movie for User 862: Jackie Brown (1997)\n",
      "Top-rated movie for User 864: Ghost in the Shell (Kokaku kidotai) (1995)\n",
      "Top-rated movie for User 865: Everyone Says I Love You (1996)\n",
      "Top-rated movie for User 866: Amadeus (1984)\n",
      "Top-rated movie for User 867: Star Trek: The Wrath of Khan (1982)\n",
      "Top-rated movie for User 868: Willy Wonka and the Chocolate Factory (1971)\n",
      "Top-rated movie for User 870: Ben-Hur (1959)\n",
      "Top-rated movie for User 871: Scream 2 (1997)\n",
      "Top-rated movie for User 872: Rosewood (1997)\n",
      "Top-rated movie for User 873: Chinatown (1974)\n",
      "Top-rated movie for User 874: Raiders of the Lost Ark (1981)\n",
      "Top-rated movie for User 875: Antonia's Line (1995)\n",
      "Top-rated movie for User 876: Postino, Il (1994)\n",
      "Top-rated movie for User 877: Schindler's List (1993)\n",
      "Top-rated movie for User 878: Michael (1996)\n",
      "Top-rated movie for User 879: Jackie Brown (1997)\n",
      "Top-rated movie for User 880: Star Trek: First Contact (1996)\n",
      "Top-rated movie for User 882: Little City (1998)\n",
      "Top-rated movie for User 883: Dead Man Walking (1995)\n",
      "Top-rated movie for User 885: Chasing Amy (1997)\n",
      "Top-rated movie for User 887: English Patient, The (1996)\n",
      "Top-rated movie for User 888: Schizopolis (1996)\n",
      "Top-rated movie for User 889: Titanic (1997)\n",
      "Top-rated movie for User 890: Selena (1997)\n",
      "Top-rated movie for User 893: Henry V (1989)\n",
      "Top-rated movie for User 894: Star Wars (1977)\n",
      "Top-rated movie for User 895: Princess Bride, The (1987)\n",
      "Top-rated movie for User 897: As Good As It Gets (1997)\n",
      "Top-rated movie for User 898: Six Degrees of Separation (1993)\n",
      "Top-rated movie for User 899: Wild Bunch, The (1969)\n",
      "Top-rated movie for User 902: Amadeus (1984)\n",
      "Top-rated movie for User 903: William Shakespeare's Romeo and Juliet (1996)\n",
      "Top-rated movie for User 904: L.A. Confidential (1997)\n",
      "Top-rated movie for User 905: English Patient, The (1996)\n",
      "Top-rated movie for User 907: It's a Wonderful Life (1946)\n",
      "Top-rated movie for User 908: Air Force One (1997)\n",
      "Top-rated movie for User 909: Godfather, The (1972)\n",
      "Top-rated movie for User 910: Fish Called Wanda, A (1988)\n",
      "Top-rated movie for User 911: Postino, Il (1994)\n",
      "Top-rated movie for User 912: Star Trek: The Wrath of Khan (1982)\n",
      "Top-rated movie for User 913: Dirty Dancing (1987)\n",
      "Top-rated movie for User 914: Chasing Amy (1997)\n",
      "Top-rated movie for User 915: Raiders of the Lost Ark (1981)\n",
      "Top-rated movie for User 916: Jane Eyre (1996)\n",
      "Top-rated movie for User 917: Bitter Sugar (Azucar Amargo) (1996)\n",
      "Top-rated movie for User 918: Schindler's List (1993)\n",
      "Top-rated movie for User 919: Titanic (1997)\n",
      "Top-rated movie for User 920: Arsenic and Old Lace (1944)\n",
      "Top-rated movie for User 922: Set It Off (1996)\n",
      "Top-rated movie for User 924: Scream (1996)\n",
      "Top-rated movie for User 925: Full Monty, The (1997)\n",
      "Top-rated movie for User 927: Babe (1995)\n",
      "Top-rated movie for User 928: Godfather: Part II, The (1974)\n",
      "Top-rated movie for User 929: Spitfire Grill, The (1996)\n",
      "Top-rated movie for User 930: Godfather, The (1972)\n",
      "Top-rated movie for User 931: North by Northwest (1959)\n",
      "Top-rated movie for User 932: Fargo (1996)\n",
      "Top-rated movie for User 933: Pather Panchali (1955)\n",
      "Top-rated movie for User 934: River Wild, The (1994)\n",
      "Top-rated movie for User 935: Hotel de Love (1996)\n",
      "Top-rated movie for User 936: Dead Man Walking (1995)\n",
      "Top-rated movie for User 937: Heat (1995)\n",
      "Top-rated movie for User 938: Dead Man Walking (1995)\n",
      "Top-rated movie for User 939: Wedding Singer, The (1998)\n",
      "Top-rated movie for User 941: Crimson Tide (1995)\n",
      "Top-rated movie for User 942: GoldenEye (1995)\n",
      "Top 5 users with different preferences for User 0: [1, 2, 3, 4, 5]\n"
     ]
    }
   ],
   "source": [
    "def find_users_with_different_preferences(user_id, train_df, item_df, model, top_n=5):\n",
    "    # Get the ratings for User 0\n",
    "    user0_ratings = train_df[train_df['user_id'] == user_id]\n",
    "    user0_top_movie_id = user0_ratings.sort_values(by='rating', ascending=False).iloc[0]['item_id']\n",
    "    \n",
    "    # Get the title of User 0's top-rated movie\n",
    "    user0_top_movie_title = item_df[item_df['item_id'] == user0_top_movie_id]['title'].values[0]\n",
    "\n",
    "    # Get all unique user IDs\n",
    "    all_user_ids = train_df['user_id'].unique()\n",
    "\n",
    "    # Initialize a list to store users with different preferences\n",
    "    different_users = []\n",
    "\n",
    "    # Iterate over all users\n",
    "    for other_user_id in all_user_ids:\n",
    "        if other_user_id != user_id:\n",
    "            # Get the ratings for the current user\n",
    "            other_user_ratings = train_df[train_df['user_id'] == other_user_id]\n",
    "            \n",
    "            # Find the top-rated movie for the current user\n",
    "            other_user_top_movie_id = other_user_ratings.sort_values(by='rating', ascending=False).iloc[0]['item_id']\n",
    "            \n",
    "            # Get the title of the top-rated movie for the current user\n",
    "            other_user_top_movie_title = item_df[item_df['item_id'] == other_user_top_movie_id]['title'].values[0]\n",
    "\n",
    "            # Check if the top-rated movie is different from User 0\n",
    "            if other_user_top_movie_title != user0_top_movie_title:\n",
    "                different_users.append(other_user_id)\n",
    "                \n",
    "                # Print the top-rated movie for the current user\n",
    "                print(f\"Top-rated movie for User {other_user_id}: {other_user_top_movie_title}\")\n",
    "\n",
    "    return different_users[:top_n]\n",
    "\n",
    "# Example usage:\n",
    "top_different_users = find_users_with_different_preferences(user_id, train_df, item_df, model)\n",
    "print(\"Top 5 users with different preferences for User 0:\", top_different_users)\n"
   ]
  },
  {
   "cell_type": "code",
   "execution_count": 36,
   "metadata": {},
   "outputs": [
    {
     "ename": "NameError",
     "evalue": "name 'y_true_cf' is not defined",
     "output_type": "error",
     "traceback": [
      "\u001b[0;31m---------------------------------------------------------------------------\u001b[0m",
      "\u001b[0;31mNameError\u001b[0m                                 Traceback (most recent call last)",
      "\u001b[1;32m/Users/kishanterdal/Downloads/Youtube_recommendation.ipynb Cell 61\u001b[0m line \u001b[0;36m4\n\u001b[1;32m     <a href='vscode-notebook-cell:/Users/kishanterdal/Downloads/Youtube_recommendation.ipynb#Y113sZmlsZQ%3D%3D?line=34'>35</a>\u001b[0m     \u001b[39mreturn\u001b[39;00m precision, recall, f1_score\n\u001b[1;32m     <a href='vscode-notebook-cell:/Users/kishanterdal/Downloads/Youtube_recommendation.ipynb#Y113sZmlsZQ%3D%3D?line=36'>37</a>\u001b[0m \u001b[39m# Assuming y_true_cf and y_pred_cf are the true labels and predicted labels respectively for the collaborative filtering model\u001b[39;00m\n\u001b[1;32m     <a href='vscode-notebook-cell:/Users/kishanterdal/Downloads/Youtube_recommendation.ipynb#Y113sZmlsZQ%3D%3D?line=37'>38</a>\u001b[0m \u001b[39m# Assuming y_true_dl and y_pred_dl are the true labels and predicted labels respectively for the deep learning model\u001b[39;00m\n\u001b[1;32m     <a href='vscode-notebook-cell:/Users/kishanterdal/Downloads/Youtube_recommendation.ipynb#Y113sZmlsZQ%3D%3D?line=38'>39</a>\u001b[0m \n\u001b[1;32m     <a href='vscode-notebook-cell:/Users/kishanterdal/Downloads/Youtube_recommendation.ipynb#Y113sZmlsZQ%3D%3D?line=39'>40</a>\u001b[0m \u001b[39m# Calculate metrics for collaborative filtering model\u001b[39;00m\n\u001b[0;32m---> <a href='vscode-notebook-cell:/Users/kishanterdal/Downloads/Youtube_recommendation.ipynb#Y113sZmlsZQ%3D%3D?line=40'>41</a>\u001b[0m cf_precision, cf_recall, cf_f1 \u001b[39m=\u001b[39m calculate_metrics(y_true_cf, y_pred_cf)\n\u001b[1;32m     <a href='vscode-notebook-cell:/Users/kishanterdal/Downloads/Youtube_recommendation.ipynb#Y113sZmlsZQ%3D%3D?line=42'>43</a>\u001b[0m \u001b[39m# Calculate metrics for deep learning model\u001b[39;00m\n\u001b[1;32m     <a href='vscode-notebook-cell:/Users/kishanterdal/Downloads/Youtube_recommendation.ipynb#Y113sZmlsZQ%3D%3D?line=43'>44</a>\u001b[0m dl_precision, dl_recall, dl_f1 \u001b[39m=\u001b[39m calculate_metrics(y_true_dl, y_pred_dl)\n",
      "\u001b[0;31mNameError\u001b[0m: name 'y_true_cf' is not defined"
     ]
    }
   ],
   "source": []
  },
  {
   "cell_type": "markdown",
   "metadata": {},
   "source": [
    "## Comparison with the previous model:\n",
    "\n",
    "When compared to the previous model, which achieved an RMSE of 0.986, the Deep Learning model demonstrates superior performance with a lower RMSE of 0.935. Unlike the previous model, which employed a simpler approach based on dot product and biases, the Deep Learning model utilizes a more complex architecture. It concatenates user and item embeddings and passes them through fully connected layers with ReLU activation, batch normalization, and dropout. This design allows the Deep Learning model to capture more intricate relationships between users and items, contributing to its improved prediction accuracy."
   ]
  },
  {
   "cell_type": "markdown",
   "metadata": {},
   "source": [
    "## Conclusion:\n",
    "\n",
    "The lower RMSE achieved by the Deep Learning model suggests its superiority over the previous model in terms of prediction accuracy. By incorporating deeper architectures and additional layers, the Deep Learning model effectively captures complex user-item interactions, resulting in more accurate predictions. This highlights the importance of leveraging sophisticated neural network architectures in collaborative filtering models for enhanced performance in recommendation systems."
   ]
  }
 ],
 "metadata": {
  "kernelspec": {
   "display_name": "Python 3",
   "language": "python",
   "name": "python3"
  },
  "language_info": {
   "codemirror_mode": {
    "name": "ipython",
    "version": 3
   },
   "file_extension": ".py",
   "mimetype": "text/x-python",
   "name": "python",
   "nbconvert_exporter": "python",
   "pygments_lexer": "ipython3",
   "version": "3.11.5"
  }
 },
 "nbformat": 4,
 "nbformat_minor": 2
}
